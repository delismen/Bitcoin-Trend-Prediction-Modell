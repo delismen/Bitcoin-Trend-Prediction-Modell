{
 "cells": [
  {
   "cell_type": "code",
   "execution_count": 1,
   "metadata": {},
   "outputs": [],
   "source": [
    "#https://docs.python.org/3/library/math.html\n",
    "import math\n",
    "\n",
    "#https://numpy.org/doc/stable/reference/\n",
    "import numpy as np\n",
    "\n",
    "from scipy.stats import ttest_ind\n",
    "import researchpy as rp\n",
    "\n",
    "#https://pandas.pydata.org/docs/reference/index.html\n",
    "import pandas as pd\n",
    "\n",
    "import nltk\n",
    "from nltk.sentiment import SentimentIntensityAnalyzer\n",
    "\n",
    "import swifter\n",
    "\n",
    "import json\n",
    "\n",
    "from IPython.display import HTML\n",
    "\n",
    "#https://seaborn.pydata.org/api.html\n",
    "import seaborn as sns"
   ]
  },
  {
   "cell_type": "code",
   "execution_count": 2,
   "metadata": {},
   "outputs": [
    {
     "name": "stderr",
     "output_type": "stream",
     "text": [
      "[nltk_data] Downloading package vader_lexicon to\n",
      "[nltk_data]     C:\\Users\\A783703\\AppData\\Roaming\\nltk_data...\n",
      "[nltk_data]   Package vader_lexicon is already up-to-date!\n"
     ]
    }
   ],
   "source": [
    "nltk.set_proxy('http://sia-lb.telekom.de:8080')\n",
    "nltk.download('vader_lexicon')\n",
    "sia = SentimentIntensityAnalyzer()"
   ]
  },
  {
   "cell_type": "code",
   "execution_count": 34,
   "metadata": {},
   "outputs": [],
   "source": [
    "def get_sentiment(text: str) -> str:\n",
    "    compound = sia.polarity_scores(text)[\"compound\"]\n",
    "    if compound >= 0.05:\n",
    "        return \"positive\"\n",
    "    elif compound <= -0.05:\n",
    "        return \"negative\"\n",
    "    else: \n",
    "        return \"neutral\""
   ]
  },
  {
   "cell_type": "code",
   "execution_count": 35,
   "metadata": {},
   "outputs": [],
   "source": [
    "def get_compound(text: str) -> float:\n",
    "    return sia.polarity_scores(text)[\"compound\"]"
   ]
  },
  {
   "cell_type": "code",
   "execution_count": 36,
   "metadata": {},
   "outputs": [
    {
     "data": {
      "text/html": [
       "<div>\n",
       "<style scoped>\n",
       "    .dataframe tbody tr th:only-of-type {\n",
       "        vertical-align: middle;\n",
       "    }\n",
       "\n",
       "    .dataframe tbody tr th {\n",
       "        vertical-align: top;\n",
       "    }\n",
       "\n",
       "    .dataframe thead th {\n",
       "        text-align: right;\n",
       "    }\n",
       "</style>\n",
       "<table border=\"1\" class=\"dataframe\">\n",
       "  <thead>\n",
       "    <tr style=\"text-align: right;\">\n",
       "      <th></th>\n",
       "      <th>source</th>\n",
       "      <th>sentiment</th>\n",
       "      <th>sentiment-metadata</th>\n",
       "    </tr>\n",
       "  </thead>\n",
       "  <tbody>\n",
       "    <tr>\n",
       "      <th>0</th>\n",
       "      <td>\"\"\"It has to be part of the menu,\"\" says @JimC...</td>\n",
       "      <td>2</td>\n",
       "      <td>{'class-name': 'negative', 'job-name': 'labeli...</td>\n",
       "    </tr>\n",
       "    <tr>\n",
       "      <th>1</th>\n",
       "      <td>\"This week, @intotheblock takes a dive into th...</td>\n",
       "      <td>0</td>\n",
       "      <td>{'class-name': 'positive', 'job-name': 'labeli...</td>\n",
       "    </tr>\n",
       "    <tr>\n",
       "      <th>2</th>\n",
       "      <td>\"Novogratz Predicts, #Bitcoin Price Will Hit $...</td>\n",
       "      <td>1</td>\n",
       "      <td>{'class-name': 'neutral', 'job-name': 'labelin...</td>\n",
       "    </tr>\n",
       "    <tr>\n",
       "      <th>3</th>\n",
       "      <td>\"#BTC rallies to extend Elon Musk Tesla gains,...</td>\n",
       "      <td>0</td>\n",
       "      <td>{'class-name': 'positive', 'job-name': 'labeli...</td>\n",
       "    </tr>\n",
       "    <tr>\n",
       "      <th>4</th>\n",
       "      <td>Not everyone is impressed by the electric vehi...</td>\n",
       "      <td>0</td>\n",
       "      <td>{'class-name': 'positive', 'job-name': 'labeli...</td>\n",
       "    </tr>\n",
       "    <tr>\n",
       "      <th>...</th>\n",
       "      <td>...</td>\n",
       "      <td>...</td>\n",
       "      <td>...</td>\n",
       "    </tr>\n",
       "    <tr>\n",
       "      <th>495</th>\n",
       "      <td>\"Nigeria’s 🇳🇬 peer-to-peer #bitcoin  trading v...</td>\n",
       "      <td>0</td>\n",
       "      <td>{'class-name': 'positive', 'job-name': 'labeli...</td>\n",
       "    </tr>\n",
       "    <tr>\n",
       "      <th>496</th>\n",
       "      <td>Dubai-based investment company IBC Group plans...</td>\n",
       "      <td>1</td>\n",
       "      <td>{'class-name': 'neutral', 'job-name': 'labelin...</td>\n",
       "    </tr>\n",
       "    <tr>\n",
       "      <th>497</th>\n",
       "      <td>Are you all in on the #NBAChampionship? Get in...</td>\n",
       "      <td>0</td>\n",
       "      <td>{'class-name': 'positive', 'job-name': 'labeli...</td>\n",
       "    </tr>\n",
       "    <tr>\n",
       "      <th>498</th>\n",
       "      <td>\"New airdrop: Icarus Network (ICA) Total Rewar...</td>\n",
       "      <td>0</td>\n",
       "      <td>{'class-name': 'positive', 'job-name': 'labeli...</td>\n",
       "    </tr>\n",
       "    <tr>\n",
       "      <th>499</th>\n",
       "      <td>Saturday Night is Fight Night with Poirier vs ...</td>\n",
       "      <td>0</td>\n",
       "      <td>{'class-name': 'positive', 'job-name': 'labeli...</td>\n",
       "    </tr>\n",
       "  </tbody>\n",
       "</table>\n",
       "<p>500 rows × 3 columns</p>\n",
       "</div>"
      ],
      "text/plain": [
       "                                                source  sentiment  \\\n",
       "0    \"\"\"It has to be part of the menu,\"\" says @JimC...          2   \n",
       "1    \"This week, @intotheblock takes a dive into th...          0   \n",
       "2    \"Novogratz Predicts, #Bitcoin Price Will Hit $...          1   \n",
       "3    \"#BTC rallies to extend Elon Musk Tesla gains,...          0   \n",
       "4    Not everyone is impressed by the electric vehi...          0   \n",
       "..                                                 ...        ...   \n",
       "495  \"Nigeria’s 🇳🇬 peer-to-peer #bitcoin  trading v...          0   \n",
       "496  Dubai-based investment company IBC Group plans...          1   \n",
       "497  Are you all in on the #NBAChampionship? Get in...          0   \n",
       "498  \"New airdrop: Icarus Network (ICA) Total Rewar...          0   \n",
       "499  Saturday Night is Fight Night with Poirier vs ...          0   \n",
       "\n",
       "                                    sentiment-metadata  \n",
       "0    {'class-name': 'negative', 'job-name': 'labeli...  \n",
       "1    {'class-name': 'positive', 'job-name': 'labeli...  \n",
       "2    {'class-name': 'neutral', 'job-name': 'labelin...  \n",
       "3    {'class-name': 'positive', 'job-name': 'labeli...  \n",
       "4    {'class-name': 'positive', 'job-name': 'labeli...  \n",
       "..                                                 ...  \n",
       "495  {'class-name': 'positive', 'job-name': 'labeli...  \n",
       "496  {'class-name': 'neutral', 'job-name': 'labelin...  \n",
       "497  {'class-name': 'positive', 'job-name': 'labeli...  \n",
       "498  {'class-name': 'positive', 'job-name': 'labeli...  \n",
       "499  {'class-name': 'positive', 'job-name': 'labeli...  \n",
       "\n",
       "[500 rows x 3 columns]"
      ]
     },
     "execution_count": 36,
     "metadata": {},
     "output_type": "execute_result"
    }
   ],
   "source": [
    "df = pd.read_json('output.manifest', lines=True)\n",
    "df.convert_dtypes()"
   ]
  },
  {
   "cell_type": "code",
   "execution_count": 37,
   "metadata": {},
   "outputs": [],
   "source": [
    "df_metadata=pd.json_normalize(df['sentiment-metadata'])"
   ]
  },
  {
   "cell_type": "code",
   "execution_count": 38,
   "metadata": {
    "scrolled": true
   },
   "outputs": [],
   "source": [
    "df_normal = pd.concat([df, df_metadata], axis = 1).convert_dtypes() #Zusammenführen der Daten"
   ]
  },
  {
   "cell_type": "code",
   "execution_count": 39,
   "metadata": {},
   "outputs": [
    {
     "data": {
      "text/html": [
       "<div>\n",
       "<style scoped>\n",
       "    .dataframe tbody tr th:only-of-type {\n",
       "        vertical-align: middle;\n",
       "    }\n",
       "\n",
       "    .dataframe tbody tr th {\n",
       "        vertical-align: top;\n",
       "    }\n",
       "\n",
       "    .dataframe thead th {\n",
       "        text-align: right;\n",
       "    }\n",
       "</style>\n",
       "<table border=\"1\" class=\"dataframe\">\n",
       "  <thead>\n",
       "    <tr style=\"text-align: right;\">\n",
       "      <th></th>\n",
       "      <th>source</th>\n",
       "      <th>sentiment</th>\n",
       "      <th>sentiment-metadata</th>\n",
       "      <th>class-name</th>\n",
       "      <th>job-name</th>\n",
       "      <th>confidence</th>\n",
       "      <th>type</th>\n",
       "      <th>human-annotated</th>\n",
       "      <th>creation-date</th>\n",
       "    </tr>\n",
       "  </thead>\n",
       "  <tbody>\n",
       "    <tr>\n",
       "      <th>0</th>\n",
       "      <td>\"\"\"It has to be part of the menu,\"\" says @JimC...</td>\n",
       "      <td>2</td>\n",
       "      <td>{'class-name': 'negative', 'job-name': 'labeli...</td>\n",
       "      <td>negative</td>\n",
       "      <td>labeling-job/tweets</td>\n",
       "      <td>0.55</td>\n",
       "      <td>groundtruth/text-classification</td>\n",
       "      <td>yes</td>\n",
       "      <td>2022-09-09T16:49:52.147291</td>\n",
       "    </tr>\n",
       "    <tr>\n",
       "      <th>1</th>\n",
       "      <td>\"This week, @intotheblock takes a dive into th...</td>\n",
       "      <td>0</td>\n",
       "      <td>{'class-name': 'positive', 'job-name': 'labeli...</td>\n",
       "      <td>positive</td>\n",
       "      <td>labeling-job/tweets</td>\n",
       "      <td>0.56</td>\n",
       "      <td>groundtruth/text-classification</td>\n",
       "      <td>yes</td>\n",
       "      <td>2022-09-09T16:48:11.991534</td>\n",
       "    </tr>\n",
       "    <tr>\n",
       "      <th>2</th>\n",
       "      <td>\"Novogratz Predicts, #Bitcoin Price Will Hit $...</td>\n",
       "      <td>1</td>\n",
       "      <td>{'class-name': 'neutral', 'job-name': 'labelin...</td>\n",
       "      <td>neutral</td>\n",
       "      <td>labeling-job/tweets</td>\n",
       "      <td>0.95</td>\n",
       "      <td>groundtruth/text-classification</td>\n",
       "      <td>yes</td>\n",
       "      <td>2022-09-09T16:48:38.131990</td>\n",
       "    </tr>\n",
       "    <tr>\n",
       "      <th>3</th>\n",
       "      <td>\"#BTC rallies to extend Elon Musk Tesla gains,...</td>\n",
       "      <td>0</td>\n",
       "      <td>{'class-name': 'positive', 'job-name': 'labeli...</td>\n",
       "      <td>positive</td>\n",
       "      <td>labeling-job/tweets</td>\n",
       "      <td>0.95</td>\n",
       "      <td>groundtruth/text-classification</td>\n",
       "      <td>yes</td>\n",
       "      <td>2022-09-09T16:53:23.023535</td>\n",
       "    </tr>\n",
       "    <tr>\n",
       "      <th>4</th>\n",
       "      <td>Not everyone is impressed by the electric vehi...</td>\n",
       "      <td>0</td>\n",
       "      <td>{'class-name': 'positive', 'job-name': 'labeli...</td>\n",
       "      <td>positive</td>\n",
       "      <td>labeling-job/tweets</td>\n",
       "      <td>0.53</td>\n",
       "      <td>groundtruth/text-classification</td>\n",
       "      <td>yes</td>\n",
       "      <td>2022-09-09T16:50:38.609277</td>\n",
       "    </tr>\n",
       "  </tbody>\n",
       "</table>\n",
       "</div>"
      ],
      "text/plain": [
       "                                              source  sentiment  \\\n",
       "0  \"\"\"It has to be part of the menu,\"\" says @JimC...          2   \n",
       "1  \"This week, @intotheblock takes a dive into th...          0   \n",
       "2  \"Novogratz Predicts, #Bitcoin Price Will Hit $...          1   \n",
       "3  \"#BTC rallies to extend Elon Musk Tesla gains,...          0   \n",
       "4  Not everyone is impressed by the electric vehi...          0   \n",
       "\n",
       "                                  sentiment-metadata class-name  \\\n",
       "0  {'class-name': 'negative', 'job-name': 'labeli...   negative   \n",
       "1  {'class-name': 'positive', 'job-name': 'labeli...   positive   \n",
       "2  {'class-name': 'neutral', 'job-name': 'labelin...    neutral   \n",
       "3  {'class-name': 'positive', 'job-name': 'labeli...   positive   \n",
       "4  {'class-name': 'positive', 'job-name': 'labeli...   positive   \n",
       "\n",
       "              job-name  confidence                             type  \\\n",
       "0  labeling-job/tweets        0.55  groundtruth/text-classification   \n",
       "1  labeling-job/tweets        0.56  groundtruth/text-classification   \n",
       "2  labeling-job/tweets        0.95  groundtruth/text-classification   \n",
       "3  labeling-job/tweets        0.95  groundtruth/text-classification   \n",
       "4  labeling-job/tweets        0.53  groundtruth/text-classification   \n",
       "\n",
       "  human-annotated               creation-date  \n",
       "0             yes  2022-09-09T16:49:52.147291  \n",
       "1             yes  2022-09-09T16:48:11.991534  \n",
       "2             yes  2022-09-09T16:48:38.131990  \n",
       "3             yes  2022-09-09T16:53:23.023535  \n",
       "4             yes  2022-09-09T16:50:38.609277  "
      ]
     },
     "execution_count": 39,
     "metadata": {},
     "output_type": "execute_result"
    }
   ],
   "source": [
    "df_normal.head()"
   ]
  },
  {
   "cell_type": "code",
   "execution_count": 40,
   "metadata": {},
   "outputs": [
    {
     "name": "stdout",
     "output_type": "stream",
     "text": [
      "<class 'pandas.core.frame.DataFrame'>\n",
      "RangeIndex: 500 entries, 0 to 499\n",
      "Data columns (total 9 columns):\n",
      " #   Column              Non-Null Count  Dtype  \n",
      "---  ------              --------------  -----  \n",
      " 0   source              500 non-null    string \n",
      " 1   sentiment           500 non-null    Int64  \n",
      " 2   sentiment-metadata  500 non-null    object \n",
      " 3   class-name          500 non-null    string \n",
      " 4   job-name            500 non-null    string \n",
      " 5   confidence          500 non-null    float64\n",
      " 6   type                500 non-null    string \n",
      " 7   human-annotated     500 non-null    string \n",
      " 8   creation-date       500 non-null    string \n",
      "dtypes: Int64(1), float64(1), object(1), string(6)\n",
      "memory usage: 35.8+ KB\n"
     ]
    }
   ],
   "source": [
    "df_normal.info()"
   ]
  },
  {
   "cell_type": "code",
   "execution_count": 41,
   "metadata": {},
   "outputs": [
    {
     "data": {
      "application/vnd.jupyter.widget-view+json": {
       "model_id": "f24705bc156643ee80c43e1924802291",
       "version_major": 2,
       "version_minor": 0
      },
      "text/plain": [
       "HBox(children=(FloatProgress(value=0.0, description='Pandas Apply', max=500.0, style=ProgressStyle(description…"
      ]
     },
     "metadata": {},
     "output_type": "display_data"
    },
    {
     "name": "stdout",
     "output_type": "stream",
     "text": [
      "\n"
     ]
    }
   ],
   "source": [
    "df_normal['vader-compound'] = df_normal.swifter.apply(lambda x: get_compound(x['source']), axis = 1)"
   ]
  },
  {
   "cell_type": "code",
   "execution_count": 42,
   "metadata": {},
   "outputs": [
    {
     "data": {
      "application/vnd.jupyter.widget-view+json": {
       "model_id": "bfb77b74168e45069566ab87209f66c6",
       "version_major": 2,
       "version_minor": 0
      },
      "text/plain": [
       "HBox(children=(FloatProgress(value=0.0, description='Pandas Apply', max=500.0, style=ProgressStyle(description…"
      ]
     },
     "metadata": {},
     "output_type": "display_data"
    },
    {
     "name": "stdout",
     "output_type": "stream",
     "text": [
      "\n"
     ]
    }
   ],
   "source": [
    "df_normal['vader-sentiment'] = df_normal.swifter.apply(lambda x: get_sentiment(x['source']), axis = 1)"
   ]
  },
  {
   "cell_type": "code",
   "execution_count": 43,
   "metadata": {},
   "outputs": [
    {
     "data": {
      "text/html": [
       "<div>\n",
       "<style scoped>\n",
       "    .dataframe tbody tr th:only-of-type {\n",
       "        vertical-align: middle;\n",
       "    }\n",
       "\n",
       "    .dataframe tbody tr th {\n",
       "        vertical-align: top;\n",
       "    }\n",
       "\n",
       "    .dataframe thead th {\n",
       "        text-align: right;\n",
       "    }\n",
       "</style>\n",
       "<table border=\"1\" class=\"dataframe\">\n",
       "  <thead>\n",
       "    <tr style=\"text-align: right;\">\n",
       "      <th></th>\n",
       "      <th>source</th>\n",
       "      <th>sentiment</th>\n",
       "      <th>sentiment-metadata</th>\n",
       "      <th>class-name</th>\n",
       "      <th>job-name</th>\n",
       "      <th>confidence</th>\n",
       "      <th>type</th>\n",
       "      <th>human-annotated</th>\n",
       "      <th>creation-date</th>\n",
       "      <th>vader-compound</th>\n",
       "      <th>vader-sentiment</th>\n",
       "    </tr>\n",
       "  </thead>\n",
       "  <tbody>\n",
       "    <tr>\n",
       "      <th>0</th>\n",
       "      <td>\"\"\"It has to be part of the menu,\"\" says @JimC...</td>\n",
       "      <td>2</td>\n",
       "      <td>{'class-name': 'negative', 'job-name': 'labeli...</td>\n",
       "      <td>negative</td>\n",
       "      <td>labeling-job/tweets</td>\n",
       "      <td>0.55</td>\n",
       "      <td>groundtruth/text-classification</td>\n",
       "      <td>yes</td>\n",
       "      <td>2022-09-09T16:49:52.147291</td>\n",
       "      <td>0.0000</td>\n",
       "      <td>neutral</td>\n",
       "    </tr>\n",
       "    <tr>\n",
       "      <th>1</th>\n",
       "      <td>\"This week, @intotheblock takes a dive into th...</td>\n",
       "      <td>0</td>\n",
       "      <td>{'class-name': 'positive', 'job-name': 'labeli...</td>\n",
       "      <td>positive</td>\n",
       "      <td>labeling-job/tweets</td>\n",
       "      <td>0.56</td>\n",
       "      <td>groundtruth/text-classification</td>\n",
       "      <td>yes</td>\n",
       "      <td>2022-09-09T16:48:11.991534</td>\n",
       "      <td>0.0000</td>\n",
       "      <td>neutral</td>\n",
       "    </tr>\n",
       "    <tr>\n",
       "      <th>2</th>\n",
       "      <td>\"Novogratz Predicts, #Bitcoin Price Will Hit $...</td>\n",
       "      <td>1</td>\n",
       "      <td>{'class-name': 'neutral', 'job-name': 'labelin...</td>\n",
       "      <td>neutral</td>\n",
       "      <td>labeling-job/tweets</td>\n",
       "      <td>0.95</td>\n",
       "      <td>groundtruth/text-classification</td>\n",
       "      <td>yes</td>\n",
       "      <td>2022-09-09T16:48:38.131990</td>\n",
       "      <td>0.1779</td>\n",
       "      <td>positive</td>\n",
       "    </tr>\n",
       "    <tr>\n",
       "      <th>3</th>\n",
       "      <td>\"#BTC rallies to extend Elon Musk Tesla gains,...</td>\n",
       "      <td>0</td>\n",
       "      <td>{'class-name': 'positive', 'job-name': 'labeli...</td>\n",
       "      <td>positive</td>\n",
       "      <td>labeling-job/tweets</td>\n",
       "      <td>0.95</td>\n",
       "      <td>groundtruth/text-classification</td>\n",
       "      <td>yes</td>\n",
       "      <td>2022-09-09T16:53:23.023535</td>\n",
       "      <td>0.4767</td>\n",
       "      <td>positive</td>\n",
       "    </tr>\n",
       "    <tr>\n",
       "      <th>4</th>\n",
       "      <td>Not everyone is impressed by the electric vehi...</td>\n",
       "      <td>0</td>\n",
       "      <td>{'class-name': 'positive', 'job-name': 'labeli...</td>\n",
       "      <td>positive</td>\n",
       "      <td>labeling-job/tweets</td>\n",
       "      <td>0.53</td>\n",
       "      <td>groundtruth/text-classification</td>\n",
       "      <td>yes</td>\n",
       "      <td>2022-09-09T16:50:38.609277</td>\n",
       "      <td>-0.3724</td>\n",
       "      <td>negative</td>\n",
       "    </tr>\n",
       "  </tbody>\n",
       "</table>\n",
       "</div>"
      ],
      "text/plain": [
       "                                              source  sentiment  \\\n",
       "0  \"\"\"It has to be part of the menu,\"\" says @JimC...          2   \n",
       "1  \"This week, @intotheblock takes a dive into th...          0   \n",
       "2  \"Novogratz Predicts, #Bitcoin Price Will Hit $...          1   \n",
       "3  \"#BTC rallies to extend Elon Musk Tesla gains,...          0   \n",
       "4  Not everyone is impressed by the electric vehi...          0   \n",
       "\n",
       "                                  sentiment-metadata class-name  \\\n",
       "0  {'class-name': 'negative', 'job-name': 'labeli...   negative   \n",
       "1  {'class-name': 'positive', 'job-name': 'labeli...   positive   \n",
       "2  {'class-name': 'neutral', 'job-name': 'labelin...    neutral   \n",
       "3  {'class-name': 'positive', 'job-name': 'labeli...   positive   \n",
       "4  {'class-name': 'positive', 'job-name': 'labeli...   positive   \n",
       "\n",
       "              job-name  confidence                             type  \\\n",
       "0  labeling-job/tweets        0.55  groundtruth/text-classification   \n",
       "1  labeling-job/tweets        0.56  groundtruth/text-classification   \n",
       "2  labeling-job/tweets        0.95  groundtruth/text-classification   \n",
       "3  labeling-job/tweets        0.95  groundtruth/text-classification   \n",
       "4  labeling-job/tweets        0.53  groundtruth/text-classification   \n",
       "\n",
       "  human-annotated               creation-date  vader-compound vader-sentiment  \n",
       "0             yes  2022-09-09T16:49:52.147291          0.0000         neutral  \n",
       "1             yes  2022-09-09T16:48:11.991534          0.0000         neutral  \n",
       "2             yes  2022-09-09T16:48:38.131990          0.1779        positive  \n",
       "3             yes  2022-09-09T16:53:23.023535          0.4767        positive  \n",
       "4             yes  2022-09-09T16:50:38.609277         -0.3724        negative  "
      ]
     },
     "execution_count": 43,
     "metadata": {},
     "output_type": "execute_result"
    }
   ],
   "source": [
    "df_normal.head()"
   ]
  },
  {
   "cell_type": "code",
   "execution_count": 44,
   "metadata": {},
   "outputs": [
    {
     "ename": "AttributeError",
     "evalue": "module 'seaborn' has no attribute 'displot'",
     "output_type": "error",
     "traceback": [
      "\u001b[1;31m---------------------------------------------------------------------------\u001b[0m",
      "\u001b[1;31mAttributeError\u001b[0m                            Traceback (most recent call last)",
      "\u001b[1;32m<ipython-input-44-8a5f94d3d5e5>\u001b[0m in \u001b[0;36m<module>\u001b[1;34m\u001b[0m\n\u001b[1;32m----> 1\u001b[1;33m \u001b[0msns\u001b[0m\u001b[1;33m.\u001b[0m\u001b[0mdisplot\u001b[0m\u001b[1;33m(\u001b[0m\u001b[0mdf_normal\u001b[0m\u001b[1;33m,\u001b[0m \u001b[0mx\u001b[0m\u001b[1;33m=\u001b[0m\u001b[1;34m\"class-name\"\u001b[0m\u001b[1;33m)\u001b[0m\u001b[1;33m\u001b[0m\u001b[1;33m\u001b[0m\u001b[0m\n\u001b[0m",
      "\u001b[1;31mAttributeError\u001b[0m: module 'seaborn' has no attribute 'displot'"
     ]
    }
   ],
   "source": [
    "sns.displot(df_normal, x=\"class-name\")"
   ]
  },
  {
   "cell_type": "code",
   "execution_count": 45,
   "metadata": {},
   "outputs": [
    {
     "name": "stdout",
     "output_type": "stream",
     "text": [
      "Ttest_indResult(statistic=34.009126441624616, pvalue=5.637426042818657e-169)\n"
     ]
    }
   ],
   "source": [
    "#Überprüfung der Ergebnisse aus dem Vader Sentiment Analyzer und der mit AWS Ground Truth gelabelten Daten\n",
    "#Da es sich um zwei unabhängige Gruppen handelt => Ungepaarter t-Test\n",
    "\n",
    "res = ttest_ind(df_normal['confidence'].values, df_normal['vader-compound'].values)\n",
    "\n",
    "print(res)"
   ]
  },
  {
   "cell_type": "code",
   "execution_count": 10,
   "metadata": {},
   "outputs": [
    {
     "ename": "NameError",
     "evalue": "name 'df_normal' is not defined",
     "output_type": "error",
     "traceback": [
      "\u001b[1;31m---------------------------------------------------------------------------\u001b[0m",
      "\u001b[1;31mNameError\u001b[0m                                 Traceback (most recent call last)",
      "\u001b[1;32m<ipython-input-10-7cc330bb2cad>\u001b[0m in \u001b[0;36m<module>\u001b[1;34m\u001b[0m\n\u001b[1;32m----> 1\u001b[1;33m summary, results = rp.ttest(group1= df_normal['confidence'][df_normal['class-name'] == 'positive'], group1_name= \"groundtruth\",\n\u001b[0m\u001b[0;32m      2\u001b[0m          group2= df_normal['vader-compound'][df_normal['vader-sentiment'] == 'positive'], group2_name= \"vader\",equal_variances = True, paired = False)\n",
      "\u001b[1;31mNameError\u001b[0m: name 'df_normal' is not defined"
     ]
    }
   ],
   "source": [
    "summary, results = rp.ttest(group1= df_normal['confidence'][df_normal['class-name'] == 'positive'], group1_name= \"groundtruth\",\n",
    "         group2= df_normal['vader-compound'][df_normal['vader-sentiment'] == 'positive'], group2_name= \"vader\",equal_variances = True, paired = False)"
   ]
  },
  {
   "cell_type": "code",
   "execution_count": 58,
   "metadata": {},
   "outputs": [
    {
     "name": "stdout",
     "output_type": "stream",
     "text": [
      "      Variable      N      Mean        SD        SE  95% Conf.  Interval\n",
      "0  groundtruth  266.0  0.691353  0.208565  0.012788   0.666175  0.716532\n",
      "1        vader  191.0  0.447123  0.199694  0.014449   0.418621  0.475624\n",
      "2     combined  457.0  0.589279  0.237565  0.011113   0.567440  0.611118\n"
     ]
    }
   ],
   "source": [
    "print(summary)"
   ]
  },
  {
   "cell_type": "code",
   "execution_count": 59,
   "metadata": {},
   "outputs": [
    {
     "name": "stdout",
     "output_type": "stream",
     "text": [
      "                    Independent t-test   results\n",
      "0  Difference (groundtruth - vader) =     0.2442\n",
      "1                Degrees of freedom =   455.0000\n",
      "2                                 t =    12.5673\n",
      "3             Two side test p value =     0.0000\n",
      "4            Difference < 0 p value =     1.0000\n",
      "5            Difference > 0 p value =     0.0000\n",
      "6                         Cohen's d =     1.1919\n",
      "7                         Hedge's g =     1.1899\n",
      "8                    Glass's delta1 =     1.1710\n",
      "9                  Point-Biserial r =     0.5076\n"
     ]
    }
   ],
   "source": [
    "print(results)"
   ]
  },
  {
   "cell_type": "code",
   "execution_count": 64,
   "metadata": {},
   "outputs": [
    {
     "data": {
      "text/plain": [
       "Ttest_indResult(statistic=56.16867677457272, pvalue=5.274211104566802e-179)"
      ]
     },
     "execution_count": 64,
     "metadata": {},
     "output_type": "execute_result"
    }
   ],
   "source": [
    "ttest_ind(df_normal['confidence'][df_normal['class-name'] == 'neutral'],\n",
    "                df_normal['vader-compound'][df_normal['vader-sentiment'] == 'neutral'])"
   ]
  },
  {
   "cell_type": "code",
   "execution_count": 77,
   "metadata": {},
   "outputs": [
    {
     "data": {
      "text/html": [
       "<div>\n",
       "<style scoped>\n",
       "    .dataframe tbody tr th:only-of-type {\n",
       "        vertical-align: middle;\n",
       "    }\n",
       "\n",
       "    .dataframe tbody tr th {\n",
       "        vertical-align: top;\n",
       "    }\n",
       "\n",
       "    .dataframe thead th {\n",
       "        text-align: right;\n",
       "    }\n",
       "</style>\n",
       "<table border=\"1\" class=\"dataframe\">\n",
       "  <thead>\n",
       "    <tr style=\"text-align: right;\">\n",
       "      <th></th>\n",
       "      <th>source</th>\n",
       "      <th>sentiment</th>\n",
       "      <th>sentiment-metadata</th>\n",
       "      <th>class-name</th>\n",
       "      <th>job-name</th>\n",
       "      <th>confidence</th>\n",
       "      <th>type</th>\n",
       "      <th>human-annotated</th>\n",
       "      <th>creation-date</th>\n",
       "      <th>vader-sentiment</th>\n",
       "      <th>vader-compound</th>\n",
       "    </tr>\n",
       "  </thead>\n",
       "  <tbody>\n",
       "    <tr>\n",
       "      <th>0</th>\n",
       "      <td>\"\"\"It has to be part of the menu,\"\" says @JimC...</td>\n",
       "      <td>2</td>\n",
       "      <td>{'class-name': 'negative', 'job-name': 'labeli...</td>\n",
       "      <td>negative</td>\n",
       "      <td>labeling-job/tweets</td>\n",
       "      <td>-0.55</td>\n",
       "      <td>groundtruth/text-classification</td>\n",
       "      <td>yes</td>\n",
       "      <td>2022-09-09T16:49:52.147291</td>\n",
       "      <td>neutral</td>\n",
       "      <td>0.0000</td>\n",
       "    </tr>\n",
       "    <tr>\n",
       "      <th>1</th>\n",
       "      <td>\"This week, @intotheblock takes a dive into th...</td>\n",
       "      <td>0</td>\n",
       "      <td>{'class-name': 'positive', 'job-name': 'labeli...</td>\n",
       "      <td>positive</td>\n",
       "      <td>labeling-job/tweets</td>\n",
       "      <td>0.56</td>\n",
       "      <td>groundtruth/text-classification</td>\n",
       "      <td>yes</td>\n",
       "      <td>2022-09-09T16:48:11.991534</td>\n",
       "      <td>neutral</td>\n",
       "      <td>0.0000</td>\n",
       "    </tr>\n",
       "    <tr>\n",
       "      <th>2</th>\n",
       "      <td>\"Novogratz Predicts, #Bitcoin Price Will Hit $...</td>\n",
       "      <td>1</td>\n",
       "      <td>{'class-name': 'neutral', 'job-name': 'labelin...</td>\n",
       "      <td>neutral</td>\n",
       "      <td>labeling-job/tweets</td>\n",
       "      <td>0.95</td>\n",
       "      <td>groundtruth/text-classification</td>\n",
       "      <td>yes</td>\n",
       "      <td>2022-09-09T16:48:38.131990</td>\n",
       "      <td>positive</td>\n",
       "      <td>0.1779</td>\n",
       "    </tr>\n",
       "    <tr>\n",
       "      <th>4</th>\n",
       "      <td>Not everyone is impressed by the electric vehi...</td>\n",
       "      <td>0</td>\n",
       "      <td>{'class-name': 'positive', 'job-name': 'labeli...</td>\n",
       "      <td>positive</td>\n",
       "      <td>labeling-job/tweets</td>\n",
       "      <td>0.53</td>\n",
       "      <td>groundtruth/text-classification</td>\n",
       "      <td>yes</td>\n",
       "      <td>2022-09-09T16:50:38.609277</td>\n",
       "      <td>negative</td>\n",
       "      <td>-0.3724</td>\n",
       "    </tr>\n",
       "    <tr>\n",
       "      <th>5</th>\n",
       "      <td>\"#BTC rallies to extend Elon Musk Tesla gains,...</td>\n",
       "      <td>1</td>\n",
       "      <td>{'class-name': 'neutral', 'job-name': 'labelin...</td>\n",
       "      <td>neutral</td>\n",
       "      <td>labeling-job/tweets</td>\n",
       "      <td>0.92</td>\n",
       "      <td>groundtruth/text-classification</td>\n",
       "      <td>yes</td>\n",
       "      <td>2022-09-09T16:50:21.849803</td>\n",
       "      <td>positive</td>\n",
       "      <td>0.4767</td>\n",
       "    </tr>\n",
       "    <tr>\n",
       "      <th>...</th>\n",
       "      <td>...</td>\n",
       "      <td>...</td>\n",
       "      <td>...</td>\n",
       "      <td>...</td>\n",
       "      <td>...</td>\n",
       "      <td>...</td>\n",
       "      <td>...</td>\n",
       "      <td>...</td>\n",
       "      <td>...</td>\n",
       "      <td>...</td>\n",
       "      <td>...</td>\n",
       "    </tr>\n",
       "    <tr>\n",
       "      <th>485</th>\n",
       "      <td>\"@PeterMcCormack @elonmusk @michael_saylor @Ba...</td>\n",
       "      <td>0</td>\n",
       "      <td>{'class-name': 'positive', 'job-name': 'labeli...</td>\n",
       "      <td>positive</td>\n",
       "      <td>labeling-job/tweets</td>\n",
       "      <td>0.44</td>\n",
       "      <td>groundtruth/text-classification</td>\n",
       "      <td>yes</td>\n",
       "      <td>2022-09-09T16:54:14.675203</td>\n",
       "      <td>negative</td>\n",
       "      <td>-0.2840</td>\n",
       "    </tr>\n",
       "    <tr>\n",
       "      <th>489</th>\n",
       "      <td>Should I do next giveaway in #Bitcoin ? Comment.</td>\n",
       "      <td>2</td>\n",
       "      <td>{'class-name': 'negative', 'job-name': 'labeli...</td>\n",
       "      <td>negative</td>\n",
       "      <td>labeling-job/tweets</td>\n",
       "      <td>-0.95</td>\n",
       "      <td>groundtruth/text-classification</td>\n",
       "      <td>yes</td>\n",
       "      <td>2022-09-09T16:49:52.146579</td>\n",
       "      <td>neutral</td>\n",
       "      <td>0.0000</td>\n",
       "    </tr>\n",
       "    <tr>\n",
       "      <th>490</th>\n",
       "      <td>\"If all special funds were to allocate the ful...</td>\n",
       "      <td>2</td>\n",
       "      <td>{'class-name': 'negative', 'job-name': 'labeli...</td>\n",
       "      <td>negative</td>\n",
       "      <td>labeling-job/tweets</td>\n",
       "      <td>-0.92</td>\n",
       "      <td>groundtruth/text-classification</td>\n",
       "      <td>yes</td>\n",
       "      <td>2022-09-09T16:48:38.132308</td>\n",
       "      <td>positive</td>\n",
       "      <td>0.4019</td>\n",
       "    </tr>\n",
       "    <tr>\n",
       "      <th>493</th>\n",
       "      <td>\"Latest for financial advisers: #ESG, #Bitcoin...</td>\n",
       "      <td>0</td>\n",
       "      <td>{'class-name': 'positive', 'job-name': 'labeli...</td>\n",
       "      <td>positive</td>\n",
       "      <td>labeling-job/tweets</td>\n",
       "      <td>0.95</td>\n",
       "      <td>groundtruth/text-classification</td>\n",
       "      <td>yes</td>\n",
       "      <td>2022-09-09T16:52:55.709167</td>\n",
       "      <td>neutral</td>\n",
       "      <td>0.0000</td>\n",
       "    </tr>\n",
       "    <tr>\n",
       "      <th>494</th>\n",
       "      <td>Gold Year To Date:  -6.2% #Bitcoin Year To Dat...</td>\n",
       "      <td>0</td>\n",
       "      <td>{'class-name': 'positive', 'job-name': 'labeli...</td>\n",
       "      <td>positive</td>\n",
       "      <td>labeling-job/tweets</td>\n",
       "      <td>0.72</td>\n",
       "      <td>groundtruth/text-classification</td>\n",
       "      <td>yes</td>\n",
       "      <td>2022-09-09T16:49:24.975062</td>\n",
       "      <td>neutral</td>\n",
       "      <td>0.0000</td>\n",
       "    </tr>\n",
       "  </tbody>\n",
       "</table>\n",
       "<p>306 rows × 11 columns</p>\n",
       "</div>"
      ],
      "text/plain": [
       "                                                source  sentiment  \\\n",
       "0    \"\"\"It has to be part of the menu,\"\" says @JimC...          2   \n",
       "1    \"This week, @intotheblock takes a dive into th...          0   \n",
       "2    \"Novogratz Predicts, #Bitcoin Price Will Hit $...          1   \n",
       "4    Not everyone is impressed by the electric vehi...          0   \n",
       "5    \"#BTC rallies to extend Elon Musk Tesla gains,...          1   \n",
       "..                                                 ...        ...   \n",
       "485  \"@PeterMcCormack @elonmusk @michael_saylor @Ba...          0   \n",
       "489   Should I do next giveaway in #Bitcoin ? Comment.          2   \n",
       "490  \"If all special funds were to allocate the ful...          2   \n",
       "493  \"Latest for financial advisers: #ESG, #Bitcoin...          0   \n",
       "494  Gold Year To Date:  -6.2% #Bitcoin Year To Dat...          0   \n",
       "\n",
       "                                    sentiment-metadata class-name  \\\n",
       "0    {'class-name': 'negative', 'job-name': 'labeli...   negative   \n",
       "1    {'class-name': 'positive', 'job-name': 'labeli...   positive   \n",
       "2    {'class-name': 'neutral', 'job-name': 'labelin...    neutral   \n",
       "4    {'class-name': 'positive', 'job-name': 'labeli...   positive   \n",
       "5    {'class-name': 'neutral', 'job-name': 'labelin...    neutral   \n",
       "..                                                 ...        ...   \n",
       "485  {'class-name': 'positive', 'job-name': 'labeli...   positive   \n",
       "489  {'class-name': 'negative', 'job-name': 'labeli...   negative   \n",
       "490  {'class-name': 'negative', 'job-name': 'labeli...   negative   \n",
       "493  {'class-name': 'positive', 'job-name': 'labeli...   positive   \n",
       "494  {'class-name': 'positive', 'job-name': 'labeli...   positive   \n",
       "\n",
       "                job-name  confidence                             type  \\\n",
       "0    labeling-job/tweets       -0.55  groundtruth/text-classification   \n",
       "1    labeling-job/tweets        0.56  groundtruth/text-classification   \n",
       "2    labeling-job/tweets        0.95  groundtruth/text-classification   \n",
       "4    labeling-job/tweets        0.53  groundtruth/text-classification   \n",
       "5    labeling-job/tweets        0.92  groundtruth/text-classification   \n",
       "..                   ...         ...                              ...   \n",
       "485  labeling-job/tweets        0.44  groundtruth/text-classification   \n",
       "489  labeling-job/tweets       -0.95  groundtruth/text-classification   \n",
       "490  labeling-job/tweets       -0.92  groundtruth/text-classification   \n",
       "493  labeling-job/tweets        0.95  groundtruth/text-classification   \n",
       "494  labeling-job/tweets        0.72  groundtruth/text-classification   \n",
       "\n",
       "    human-annotated               creation-date vader-sentiment  \\\n",
       "0               yes  2022-09-09T16:49:52.147291         neutral   \n",
       "1               yes  2022-09-09T16:48:11.991534         neutral   \n",
       "2               yes  2022-09-09T16:48:38.131990        positive   \n",
       "4               yes  2022-09-09T16:50:38.609277        negative   \n",
       "5               yes  2022-09-09T16:50:21.849803        positive   \n",
       "..              ...                         ...             ...   \n",
       "485             yes  2022-09-09T16:54:14.675203        negative   \n",
       "489             yes  2022-09-09T16:49:52.146579         neutral   \n",
       "490             yes  2022-09-09T16:48:38.132308        positive   \n",
       "493             yes  2022-09-09T16:52:55.709167         neutral   \n",
       "494             yes  2022-09-09T16:49:24.975062         neutral   \n",
       "\n",
       "     vader-compound  \n",
       "0            0.0000  \n",
       "1            0.0000  \n",
       "2            0.1779  \n",
       "4           -0.3724  \n",
       "5            0.4767  \n",
       "..              ...  \n",
       "485         -0.2840  \n",
       "489          0.0000  \n",
       "490          0.4019  \n",
       "493          0.0000  \n",
       "494          0.0000  \n",
       "\n",
       "[306 rows x 11 columns]"
      ]
     },
     "execution_count": 77,
     "metadata": {},
     "output_type": "execute_result"
    }
   ],
   "source": [
    "df_normal[df_normal['class-name'] != df_normal['vader-sentiment']]"
   ]
  },
  {
   "cell_type": "code",
   "execution_count": 76,
   "metadata": {},
   "outputs": [
    {
     "name": "stdout",
     "output_type": "stream",
     "text": [
      "0      \"\"\"It has to be part of the menu,\"\" says @JimC...\n",
      "1      \"This week, @intotheblock takes a dive into th...\n",
      "2      \"Novogratz Predicts, #Bitcoin Price Will Hit $...\n",
      "4      Not everyone is impressed by the electric vehi...\n",
      "5      \"#BTC rallies to extend Elon Musk Tesla gains,...\n",
      "                             ...                        \n",
      "485    \"@PeterMcCormack @elonmusk @michael_saylor @Ba...\n",
      "489     Should I do next giveaway in #Bitcoin ? Comment.\n",
      "490    \"If all special funds were to allocate the ful...\n",
      "493    \"Latest for financial advisers: #ESG, #Bitcoin...\n",
      "494    Gold Year To Date:  -6.2% #Bitcoin Year To Dat...\n",
      "Name: source, Length: 306, dtype: string\n"
     ]
    }
   ],
   "source": [
    "print(df_normal[df_normal['class-name'] != df_normal['vader-sentiment']].source)"
   ]
  },
  {
   "cell_type": "code",
   "execution_count": 81,
   "metadata": {
    "scrolled": false
   },
   "outputs": [
    {
     "data": {
      "text/html": [
       "\"#BTC rallies to extend Elon Musk Tesla gains, hitting $48k record high #Bitcoin https://t.co/m2njQTIUu0 https://t.co/voIpMGsxHs\"<br />\"Yesterday, we reached over 100k followers on Instagram! Do you use the gram? If so, why not give us a follow?    📷… https://t.co/qlP0yBSZKo\"<br />10 years ago #satoshinakamoto disappeared after creating #bitcoin #BTC and now he's on track to $1 trillion... https://t.co/37fvHSHiRh<br />\"On 3/12/20 @Binance traded $2 billion in #BTC which closed at $5,578. On 8/11/20 (the day $MSTR announced its first $250 million investment) Binance traded $743 million with BTC closing at $11,564. On 5/18/21 $13.5 billion traded closing $36,690.  #Bitcoin is winning. 🚀\"<br />CoinMarketCap takes a deep dive into a project that promises to help support content creators and grow their scope of monetization.  #CoinMarketCap #Crypto #Cryptocurrency #Ethereum #ETH #BTC #Bitcoin #Altcoin #Blockchain #NFT  https://t.co/BconeI45EC<br />\"\"\"If it needed more help than Square and Twitter, I would leave them for #Bitcoin.\"\" - @jack https://t.co/RUpiBO6iPk\"<br />\"China's crackdown on #bitcoin mining is a \"\"huge benefit for North American miners,\"\" @Bitfarms_io's Ben Gagnon says.  In the next difficulty cycle, \"\"we'll see a huge increase in the amount of bitcoin we mine.\"\"  Watch the full interview: https://t.co/Q6ocb6VUPz https://t.co/tU0K19ahaz\"<br />\"\"\"If this partial 'bitcoinization' scheme works, then El Salvador could increase both its reserves and its GDP, reducing the pressure on government borrowing costs and potentially freeing up money for social programs,\"\" says @Frances_Coppola.   #bitcoin   https://t.co/00f0r2jjzO\"<br />Breathless Financial Cheerleading Posing as Journalism:   #Bitcoin Fixes This. https://t.co/09lpzoLvhE<br />#Bitcoin loves shaking out the 🧻🤲  😂<br />$50 in #Bitcoin to 1 person in 12 hours  - Retweet  - Follow @2crazylive and show some        love to his recent tweets<br />\"\"\"This is a truly symbolic moment. The most ancient and emblematic denominator of value can now, for the first time, be purchased using humanity’s newest universal currency.\"\" #bitcoin #cryptocurrency https://t.co/GaJd0tn66T\"<br />\"#MarketsWithETNOW | #Bitcoin turns positive after earlier dropping below $30,000 https://t.co/r3K9Yj2rm8\"<br />\"As digital currencies gain more acceptance across the globe, we present the latest market trend as of 4:15 PM (WAT).⁣⁣⁣⁣⁣ ⁣⁣ #InvestmentWatch #Bitcoin #Cryptocurrency #Crypto #Ethereum #Bamboo #Binance #Coinbase #Money #Nigeria https://t.co/s95xo2Sgei\"<br />\"This oil well in Montana contains a #Bitcoin mine powered by excess natural gas. \"\"Relative to continuing to flare, this is deeply carbon negative.\"\" https://t.co/j2tj8YwL67\"<br />\"New Giveaway: FreeeKonomist Total Reward: $10,000 worth of any Favorite Crypto Rate: ⭐️⭐️⭐️⭐️ Winners: 5 Random winners $2,000 each Distribution: Next week  Giveaway details: https://t.co/5Hjhi4clnj  #Giveaway #Giveaways #AirdropInspector #Airdrop #Airdrops #Bitcoin\"<br />The price of #bitcoin has nosedived after fresh reports emerged that China has expanded its crackdown on the mining of cryptocurrencies.  https://t.co/FtiOXBOSQO<br />\"Thread:   1. Qs for bankers and #Bitcoin enthusiasts: We know banks lend money based on their customer’s deposits ..but also, they can lend more than what’s deposited, as long as everyone doesn’t ask for their money back at once.   If they do, bank collapses.\"<br />\"Getting banned in China is a \"\"rite of passage\"\" for freedom technology and shows #Bitcoin is working, says @arvanaghi.  Brandon Arvanaghi, a Bitcoin mining engineer and former Gemini security engineer, speaks with @emilychangtv ​on @BloombergTV  More: https://t.co/ax5V5yAIVw https://t.co/zgC019j3ag\"<br />\"@APompliano That's because Buffett buys stock in companies that pay good dividends. The longer he holds the more income he receives. The same strategy is not appropriate for a non-yielding, digital token with no real value like #Bitcoin.\"<br />\"\"\"You can not trust the people who decide what monetary freedom means. The people who should make the decisions are you.\"\" - @RonPaul on #Bitcoin https://t.co/GjBzO2OvH6\"<br />\"@kaleazy @Nouriel @BillGates @paulkrugman @warrenbuffet @theresa_may @nntaleb @Lagarde @michaeljburry Yes far too many for one tweet. Long #Bitcoin is a very crowded, consensus trade.\"<br />.@Microstrategy now owns 1 out of every 210 #bitcoin that will ever be created https://t.co/W6pX5vEZ7D<br />\"“Beginning is easy, continuing is hard.” -Japanese proverb on #Bitcoin\"<br />\"If all special funds were to allocate the full 20% in #cryptocurrency, it would equate to more than 376 billion euros. #bitcoin https://t.co/H7tojmPis7\""
      ],
      "text/plain": [
       "<IPython.core.display.HTML object>"
      ]
     },
     "execution_count": 81,
     "metadata": {},
     "output_type": "execute_result"
    }
   ],
   "source": [
    "HTML('<br />'.join(str(y) for y in df_normal[(df_normal['class-name'] == 'negative') & (df_normal['vader-sentiment'] == 'positive')].source))"
   ]
  },
  {
   "cell_type": "code",
   "execution_count": null,
   "metadata": {},
   "outputs": [],
   "source": []
  }
 ],
 "metadata": {
  "kernelspec": {
   "display_name": "Python 3",
   "language": "python",
   "name": "python3"
  },
  "language_info": {
   "codemirror_mode": {
    "name": "ipython",
    "version": 3
   },
   "file_extension": ".py",
   "mimetype": "text/x-python",
   "name": "python",
   "nbconvert_exporter": "python",
   "pygments_lexer": "ipython3",
   "version": "3.8.3"
  }
 },
 "nbformat": 4,
 "nbformat_minor": 4
}
