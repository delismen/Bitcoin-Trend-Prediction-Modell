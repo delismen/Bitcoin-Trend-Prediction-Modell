{
 "cells": [
  {
   "cell_type": "markdown",
   "metadata": {},
   "source": [
    "# Skript zum Laden von Bitcoin-Tweets von Kaggle und VADER Sentiment Analyzer"
   ]
  },
  {
   "cell_type": "code",
   "execution_count": 1,
   "metadata": {},
   "outputs": [],
   "source": [
    "#https://docs.python.org/3/library/math.html\n",
    "import math\n",
    "\n",
    "#https://numpy.org/doc/stable/reference/\n",
    "import numpy as np\n",
    "\n",
    "#https://pandas.pydata.org/docs/reference/index.html\n",
    "import pandas as pd\n",
    "\n",
    "#https://seaborn.pydata.org/api.html\n",
    "import seaborn as sns\n",
    "\n",
    "#https://matplotlib.org/api/_as_gen/matplotlib.pyplot.html#module-matplotlib.pyplot\n",
    "import matplotlib.pyplot as plt\n",
    "\n",
    "#https://matplotlib.org/3.1.0/gallery/style_sheets/style_sheets_reference.html\n",
    "plt.style.use(\"fivethirtyeight\") #große Schriften und hoher Kontrast für eine bessere Lesbarkeit\n",
    "\n",
    "#https://polyglot.readthedocs.io/en/latest/Detection.html\n",
    "import polyglot\n",
    "\n",
    "#https://www.nltk.org/api/nltk.html\n",
    "import nltk\n",
    "\n",
    "#https://github.com/jmcarpenter2/swifter/blob/master/docs/documentation.md\n",
    "import swifter\n",
    "\n",
    "#https://polyglot.readthedocs.io/en/latest/Detection.html\n",
    "from polyglot.detect import Detector\n",
    "\n",
    "#https://www.nltk.org/api/nltk.sentiment.sentiment_analyzer.html\n",
    "from nltk.sentiment import SentimentIntensityAnalyzer\n",
    "\n",
    "import regex as rx\n",
    "\n",
    "import sys\n",
    "\n",
    "#https://docs.dask.org/en/stable/install.html\n",
    "import dask.dataframe as dd\n",
    "\n",
    "import timeit\n",
    "\n",
    "#https://docs.python.org/3/library/datetime.html\n",
    "import datetime\n",
    "\n",
    "import warnings\n",
    "warnings.filterwarnings(\"ignore\", category=FutureWarning)\n",
    "nltk.set_proxy('http://sia-lb.telekom.de:8080')"
   ]
  },
  {
   "cell_type": "markdown",
   "metadata": {},
   "source": [
    "## Prerequisites\n",
    "\n",
    "* Install __polyglot__:\n",
    "    pip install polyglot. For a workaround on windows see: https://stackoverflow.com/a/48056309/20027527"
   ]
  },
  {
   "cell_type": "code",
   "execution_count": null,
   "metadata": {},
   "outputs": [],
   "source": [
    "import sys\n",
    "!{sys.executable} -m pip install swifter==1.3.4\n",
    "!{sys.executable} -m pip install seaborn==0.12.0\n",
    "!{sys.executable} -m pip install pandas==1.0.5\n",
    "!{sys.executable} -m pip install numpy==1.18.5\n",
    "!{sys.executable} -m pip install matplotlib==3.2.2\n",
    "!{sys.executable} -m pip install nltk\n",
    "!{sys.executable} -m pip install re==2.2.1"
   ]
  },
  {
   "cell_type": "markdown",
   "metadata": {},
   "source": [
    "# 1. Laden des Twitter-Datensatzes"
   ]
  },
  {
   "cell_type": "code",
   "execution_count": 2,
   "metadata": {},
   "outputs": [
    {
     "name": "stderr",
     "output_type": "stream",
     "text": [
      "C:\\ProgramData\\Anaconda3\\lib\\site-packages\\IPython\\core\\interactiveshell.py:3071: DtypeWarning: Columns (8) have mixed types.Specify dtype option on import or set low_memory=False.\n",
      "  has_raised = await self.run_ast_nodes(code_ast.body, cell_name,\n"
     ]
    }
   ],
   "source": [
    "#Laden der Bitcoin Tweets\n",
    "#df=pd.read_csv(\"https://www.kaggle.com/datasets/alaix14/bitcoin-tweets-20160101-to-20190329/download/msVFdUK46gOHXNQ36xtD%2Fversions%2FhHfS5erInthb7BUV9mhn%2Ffiles%2Ftweets.csv?datasetVersionNumber=2\",sep=';',usecols=[\"timestamp\",\"replies\",\"likes\",\"retweets\", \"text\"],parse_dates=[\"timestamp\"])\n",
    "df=pd.read_csv('tweets.csv',sep=';',usecols=[\"timestamp\",\"replies\",\"likes\",\"retweets\", \"text\"], parse_dates=[\"timestamp\"])\n",
    "df = df.convert_dtypes()"
   ]
  },
  {
   "cell_type": "code",
   "execution_count": 3,
   "metadata": {},
   "outputs": [
    {
     "name": "stdout",
     "output_type": "stream",
     "text": [
      "(20165013, 5)\n"
     ]
    }
   ],
   "source": [
    "print(df.shape)"
   ]
  },
  {
   "cell_type": "markdown",
   "metadata": {},
   "source": [
    "# 2. Datenüberprüfung und -transformation"
   ]
  },
  {
   "cell_type": "code",
   "execution_count": 4,
   "metadata": {},
   "outputs": [
    {
     "name": "stdout",
     "output_type": "stream",
     "text": [
      "Es gibt Daten im Zeitraum von  2007-04-19 07:14:38+00:00  bis  2019-11-23 15:45:57+00:00\n"
     ]
    }
   ],
   "source": [
    "print(\"Es gibt Daten im Zeitraum von \", df[\"timestamp\"].min(), \" bis \", df[\"timestamp\"].max())"
   ]
  },
  {
   "cell_type": "code",
   "execution_count": 5,
   "metadata": {},
   "outputs": [
    {
     "name": "stdout",
     "output_type": "stream",
     "text": [
      "Der Datensatz hat 20165013 Zeilen und 5 Spalten\n"
     ]
    }
   ],
   "source": [
    "print('Der Datensatz hat {} Zeilen und {} Spalten'.format(df.shape[0], df.shape[1]))"
   ]
  },
  {
   "cell_type": "code",
   "execution_count": 6,
   "metadata": {},
   "outputs": [
    {
     "name": "stdout",
     "output_type": "stream",
     "text": [
      "Im Einzelnen handelt es sich um folgende Spalten:\n",
      "timestamp\n",
      "replies\n",
      "likes\n",
      "retweets\n",
      "text\n"
     ]
    }
   ],
   "source": [
    "print('Im Einzelnen handelt es sich um folgende Spalten:')\n",
    "for column in df.columns:\n",
    "    print(column)"
   ]
  },
  {
   "cell_type": "code",
   "execution_count": 7,
   "metadata": {},
   "outputs": [],
   "source": [
    "#Sortieren nach Datum\n",
    "df_sort = df.sort_values(by=['timestamp'], ignore_index=True).head()\n",
    "df_sort.reset_index(drop=True, inplace=True)"
   ]
  },
  {
   "cell_type": "code",
   "execution_count": 8,
   "metadata": {
    "scrolled": true
   },
   "outputs": [
    {
     "data": {
      "text/html": [
       "<div>\n",
       "<style scoped>\n",
       "    .dataframe tbody tr th:only-of-type {\n",
       "        vertical-align: middle;\n",
       "    }\n",
       "\n",
       "    .dataframe tbody tr th {\n",
       "        vertical-align: top;\n",
       "    }\n",
       "\n",
       "    .dataframe thead th {\n",
       "        text-align: right;\n",
       "    }\n",
       "</style>\n",
       "<table border=\"1\" class=\"dataframe\">\n",
       "  <thead>\n",
       "    <tr style=\"text-align: right;\">\n",
       "      <th></th>\n",
       "      <th>timestamp</th>\n",
       "      <th>replies</th>\n",
       "      <th>likes</th>\n",
       "      <th>retweets</th>\n",
       "      <th>text</th>\n",
       "    </tr>\n",
       "  </thead>\n",
       "  <tbody>\n",
       "    <tr>\n",
       "      <th>0</th>\n",
       "      <td>2007-04-19 07:14:38+00:00</td>\n",
       "      <td>0</td>\n",
       "      <td>0</td>\n",
       "      <td>2</td>\n",
       "      <td>is happily mugging at BTC where she will hook ...</td>\n",
       "    </tr>\n",
       "    <tr>\n",
       "      <th>1</th>\n",
       "      <td>2009-01-11 03:33:52+00:00</td>\n",
       "      <td>790</td>\n",
       "      <td>14470</td>\n",
       "      <td>5542</td>\n",
       "      <td>Running bitcoin</td>\n",
       "    </tr>\n",
       "    <tr>\n",
       "      <th>2</th>\n",
       "      <td>2009-01-21 17:29:40+00:00</td>\n",
       "      <td>55</td>\n",
       "      <td>1544</td>\n",
       "      <td>392</td>\n",
       "      <td>Looking at ways to add more anonymity to bitcoin</td>\n",
       "    </tr>\n",
       "    <tr>\n",
       "      <th>3</th>\n",
       "      <td>2009-01-27 20:14:10+00:00</td>\n",
       "      <td>44</td>\n",
       "      <td>1042</td>\n",
       "      <td>277</td>\n",
       "      <td>Thinking about how to reduce CO2 emissions fro...</td>\n",
       "    </tr>\n",
       "    <tr>\n",
       "      <th>4</th>\n",
       "      <td>2009-01-29 13:37:53+00:00</td>\n",
       "      <td>0</td>\n",
       "      <td>28</td>\n",
       "      <td>16</td>\n",
       "      <td>From: Satoshi Nakamoto - 2009-01-11 22:32 Bitc...</td>\n",
       "    </tr>\n",
       "  </tbody>\n",
       "</table>\n",
       "</div>"
      ],
      "text/plain": [
       "                  timestamp  replies  likes  retweets  \\\n",
       "0 2007-04-19 07:14:38+00:00        0      0         2   \n",
       "1 2009-01-11 03:33:52+00:00      790  14470      5542   \n",
       "2 2009-01-21 17:29:40+00:00       55   1544       392   \n",
       "3 2009-01-27 20:14:10+00:00       44   1042       277   \n",
       "4 2009-01-29 13:37:53+00:00        0     28        16   \n",
       "\n",
       "                                                text  \n",
       "0  is happily mugging at BTC where she will hook ...  \n",
       "1                                    Running bitcoin  \n",
       "2   Looking at ways to add more anonymity to bitcoin  \n",
       "3  Thinking about how to reduce CO2 emissions fro...  \n",
       "4  From: Satoshi Nakamoto - 2009-01-11 22:32 Bitc...  "
      ]
     },
     "execution_count": 8,
     "metadata": {},
     "output_type": "execute_result"
    }
   ],
   "source": [
    "#Auszug der ersten 10 Zeilen des Datensatzes\n",
    "df_sort.head(10)"
   ]
  },
  {
   "cell_type": "code",
   "execution_count": 9,
   "metadata": {},
   "outputs": [
    {
     "data": {
      "text/html": [
       "<div>\n",
       "<style scoped>\n",
       "    .dataframe tbody tr th:only-of-type {\n",
       "        vertical-align: middle;\n",
       "    }\n",
       "\n",
       "    .dataframe tbody tr th {\n",
       "        vertical-align: top;\n",
       "    }\n",
       "\n",
       "    .dataframe thead th {\n",
       "        text-align: right;\n",
       "    }\n",
       "</style>\n",
       "<table border=\"1\" class=\"dataframe\">\n",
       "  <thead>\n",
       "    <tr style=\"text-align: right;\">\n",
       "      <th></th>\n",
       "      <th>timestamp</th>\n",
       "      <th>replies</th>\n",
       "      <th>likes</th>\n",
       "      <th>retweets</th>\n",
       "      <th>text</th>\n",
       "    </tr>\n",
       "  </thead>\n",
       "  <tbody>\n",
       "    <tr>\n",
       "      <th>0</th>\n",
       "      <td>2019-11-23 15:45:57+00:00</td>\n",
       "      <td>0</td>\n",
       "      <td>0</td>\n",
       "      <td>0</td>\n",
       "      <td>@btc \n",
       "@btc \n",
       "Do you know that BTC Baskets isn't...</td>\n",
       "    </tr>\n",
       "    <tr>\n",
       "      <th>1</th>\n",
       "      <td>2019-11-23 15:45:56+00:00</td>\n",
       "      <td>0</td>\n",
       "      <td>0</td>\n",
       "      <td>0</td>\n",
       "      <td>Register now for the early access of the Codug...</td>\n",
       "    </tr>\n",
       "    <tr>\n",
       "      <th>2</th>\n",
       "      <td>2019-11-23 15:45:55+00:00</td>\n",
       "      <td>0</td>\n",
       "      <td>0</td>\n",
       "      <td>0</td>\n",
       "      <td>Bitcoin Suisse Certificates :) https://t.co/nd...</td>\n",
       "    </tr>\n",
       "    <tr>\n",
       "      <th>3</th>\n",
       "      <td>2019-11-23 15:45:55+00:00</td>\n",
       "      <td>0</td>\n",
       "      <td>0</td>\n",
       "      <td>0</td>\n",
       "      <td>Daily profit for HODLING BTC since 2013 Data t...</td>\n",
       "    </tr>\n",
       "    <tr>\n",
       "      <th>4</th>\n",
       "      <td>2019-11-23 15:45:53+00:00</td>\n",
       "      <td>0</td>\n",
       "      <td>0</td>\n",
       "      <td>0</td>\n",
       "      <td>The Worlds First Millennium Firm https://t.co/...</td>\n",
       "    </tr>\n",
       "  </tbody>\n",
       "</table>\n",
       "</div>"
      ],
      "text/plain": [
       "                  timestamp  replies  likes  retweets  \\\n",
       "0 2019-11-23 15:45:57+00:00        0      0         0   \n",
       "1 2019-11-23 15:45:56+00:00        0      0         0   \n",
       "2 2019-11-23 15:45:55+00:00        0      0         0   \n",
       "3 2019-11-23 15:45:55+00:00        0      0         0   \n",
       "4 2019-11-23 15:45:53+00:00        0      0         0   \n",
       "\n",
       "                                                text  \n",
       "0  @btc \n",
       "@btc \n",
       "Do you know that BTC Baskets isn't...  \n",
       "1  Register now for the early access of the Codug...  \n",
       "2  Bitcoin Suisse Certificates :) https://t.co/nd...  \n",
       "3  Daily profit for HODLING BTC since 2013 Data t...  \n",
       "4  The Worlds First Millennium Firm https://t.co/...  "
      ]
     },
     "execution_count": 9,
     "metadata": {},
     "output_type": "execute_result"
    }
   ],
   "source": [
    "#Auszug der letzten 10 Zeilen des Datensatzes\n",
    "df.sort_values(by=['timestamp'], ignore_index=True, ascending=False).head()"
   ]
  },
  {
   "cell_type": "code",
   "execution_count": 10,
   "metadata": {
    "scrolled": true
   },
   "outputs": [
    {
     "name": "stdout",
     "output_type": "stream",
     "text": [
      "<class 'pandas.core.frame.DataFrame'>\n",
      "RangeIndex: 20165013 entries, 0 to 20165012\n",
      "Data columns (total 5 columns):\n",
      " #   Column     Dtype              \n",
      "---  ------     -----              \n",
      " 0   timestamp  datetime64[ns, UTC]\n",
      " 1   replies    Int64              \n",
      " 2   likes      Int64              \n",
      " 3   retweets   Int64              \n",
      " 4   text       string             \n",
      "dtypes: Int64(3), datetime64[ns, UTC](1), string(1)\n",
      "memory usage: 826.9 MB\n"
     ]
    }
   ],
   "source": [
    "#Ausgabe der einzelnen Spalten und der Datentypen\n",
    "df.info()"
   ]
  },
  {
   "cell_type": "code",
   "execution_count": 11,
   "metadata": {
    "scrolled": false
   },
   "outputs": [
    {
     "data": {
      "text/html": [
       "<div>\n",
       "<style scoped>\n",
       "    .dataframe tbody tr th:only-of-type {\n",
       "        vertical-align: middle;\n",
       "    }\n",
       "\n",
       "    .dataframe tbody tr th {\n",
       "        vertical-align: top;\n",
       "    }\n",
       "\n",
       "    .dataframe thead th {\n",
       "        text-align: right;\n",
       "    }\n",
       "</style>\n",
       "<table border=\"1\" class=\"dataframe\">\n",
       "  <thead>\n",
       "    <tr style=\"text-align: right;\">\n",
       "      <th></th>\n",
       "      <th>replies</th>\n",
       "      <th>likes</th>\n",
       "      <th>retweets</th>\n",
       "    </tr>\n",
       "  </thead>\n",
       "  <tbody>\n",
       "    <tr>\n",
       "      <th>count</th>\n",
       "      <td>1.881052e+07</td>\n",
       "      <td>1.881052e+07</td>\n",
       "      <td>1.881052e+07</td>\n",
       "    </tr>\n",
       "    <tr>\n",
       "      <th>mean</th>\n",
       "      <td>2.837522e-01</td>\n",
       "      <td>2.410102e+00</td>\n",
       "      <td>9.565145e-01</td>\n",
       "    </tr>\n",
       "    <tr>\n",
       "      <th>std</th>\n",
       "      <td>2.196037e+01</td>\n",
       "      <td>1.390808e+02</td>\n",
       "      <td>8.153579e+01</td>\n",
       "    </tr>\n",
       "    <tr>\n",
       "      <th>min</th>\n",
       "      <td>0.000000e+00</td>\n",
       "      <td>0.000000e+00</td>\n",
       "      <td>0.000000e+00</td>\n",
       "    </tr>\n",
       "    <tr>\n",
       "      <th>25%</th>\n",
       "      <td>0.000000e+00</td>\n",
       "      <td>0.000000e+00</td>\n",
       "      <td>0.000000e+00</td>\n",
       "    </tr>\n",
       "    <tr>\n",
       "      <th>50%</th>\n",
       "      <td>0.000000e+00</td>\n",
       "      <td>0.000000e+00</td>\n",
       "      <td>0.000000e+00</td>\n",
       "    </tr>\n",
       "    <tr>\n",
       "      <th>75%</th>\n",
       "      <td>0.000000e+00</td>\n",
       "      <td>0.000000e+00</td>\n",
       "      <td>0.000000e+00</td>\n",
       "    </tr>\n",
       "    <tr>\n",
       "      <th>max</th>\n",
       "      <td>7.738400e+04</td>\n",
       "      <td>2.919850e+05</td>\n",
       "      <td>1.812400e+05</td>\n",
       "    </tr>\n",
       "  </tbody>\n",
       "</table>\n",
       "</div>"
      ],
      "text/plain": [
       "            replies         likes      retweets\n",
       "count  1.881052e+07  1.881052e+07  1.881052e+07\n",
       "mean   2.837522e-01  2.410102e+00  9.565145e-01\n",
       "std    2.196037e+01  1.390808e+02  8.153579e+01\n",
       "min    0.000000e+00  0.000000e+00  0.000000e+00\n",
       "25%    0.000000e+00  0.000000e+00  0.000000e+00\n",
       "50%    0.000000e+00  0.000000e+00  0.000000e+00\n",
       "75%    0.000000e+00  0.000000e+00  0.000000e+00\n",
       "max    7.738400e+04  2.919850e+05  1.812400e+05"
      ]
     },
     "execution_count": 11,
     "metadata": {},
     "output_type": "execute_result"
    }
   ],
   "source": [
    "#Ausgabe einiger Statistiken des Datensatzes\n",
    "df.describe()"
   ]
  },
  {
   "cell_type": "code",
   "execution_count": 12,
   "metadata": {},
   "outputs": [],
   "source": [
    "df[\"month\"] = df[\"timestamp\"].dt.month\n",
    "df[\"year\"] = df[\"timestamp\"].dt.year\n",
    "\n",
    "pivot = pd.pivot_table(df, values='timestamp', index=['month'], columns=['year'], aggfunc='count').fillna(0)"
   ]
  },
  {
   "cell_type": "code",
   "execution_count": 13,
   "metadata": {},
   "outputs": [
    {
     "data": {
      "text/html": [
       "<div>\n",
       "<style scoped>\n",
       "    .dataframe tbody tr th:only-of-type {\n",
       "        vertical-align: middle;\n",
       "    }\n",
       "\n",
       "    .dataframe tbody tr th {\n",
       "        vertical-align: top;\n",
       "    }\n",
       "\n",
       "    .dataframe thead th {\n",
       "        text-align: right;\n",
       "    }\n",
       "</style>\n",
       "<table border=\"1\" class=\"dataframe\">\n",
       "  <thead>\n",
       "    <tr style=\"text-align: right;\">\n",
       "      <th>year</th>\n",
       "      <th>2007.0</th>\n",
       "      <th>2009.0</th>\n",
       "      <th>2010.0</th>\n",
       "      <th>2011.0</th>\n",
       "      <th>2012.0</th>\n",
       "      <th>2013.0</th>\n",
       "      <th>2014.0</th>\n",
       "      <th>2015.0</th>\n",
       "      <th>2016.0</th>\n",
       "      <th>2017.0</th>\n",
       "      <th>2018.0</th>\n",
       "      <th>2019.0</th>\n",
       "    </tr>\n",
       "    <tr>\n",
       "      <th>month</th>\n",
       "      <th></th>\n",
       "      <th></th>\n",
       "      <th></th>\n",
       "      <th></th>\n",
       "      <th></th>\n",
       "      <th></th>\n",
       "      <th></th>\n",
       "      <th></th>\n",
       "      <th></th>\n",
       "      <th></th>\n",
       "      <th></th>\n",
       "      <th></th>\n",
       "    </tr>\n",
       "  </thead>\n",
       "  <tbody>\n",
       "    <tr>\n",
       "      <th>1.0</th>\n",
       "      <td>0.0</td>\n",
       "      <td>4.0</td>\n",
       "      <td>0.0</td>\n",
       "      <td>2.0</td>\n",
       "      <td>1686.0</td>\n",
       "      <td>926.0</td>\n",
       "      <td>28423.0</td>\n",
       "      <td>20236.0</td>\n",
       "      <td>17529.0</td>\n",
       "      <td>10761.0</td>\n",
       "      <td>38088.0</td>\n",
       "      <td>426621.0</td>\n",
       "    </tr>\n",
       "    <tr>\n",
       "      <th>2.0</th>\n",
       "      <td>0.0</td>\n",
       "      <td>1.0</td>\n",
       "      <td>0.0</td>\n",
       "      <td>1.0</td>\n",
       "      <td>1699.0</td>\n",
       "      <td>3209.0</td>\n",
       "      <td>27060.0</td>\n",
       "      <td>17766.0</td>\n",
       "      <td>129010.0</td>\n",
       "      <td>48820.0</td>\n",
       "      <td>166979.0</td>\n",
       "      <td>26129.0</td>\n",
       "    </tr>\n",
       "    <tr>\n",
       "      <th>3.0</th>\n",
       "      <td>0.0</td>\n",
       "      <td>0.0</td>\n",
       "      <td>1.0</td>\n",
       "      <td>1.0</td>\n",
       "      <td>2838.0</td>\n",
       "      <td>4161.0</td>\n",
       "      <td>23701.0</td>\n",
       "      <td>19299.0</td>\n",
       "      <td>19693.0</td>\n",
       "      <td>9683.0</td>\n",
       "      <td>34834.0</td>\n",
       "      <td>32546.0</td>\n",
       "    </tr>\n",
       "    <tr>\n",
       "      <th>4.0</th>\n",
       "      <td>1.0</td>\n",
       "      <td>0.0</td>\n",
       "      <td>1.0</td>\n",
       "      <td>8.0</td>\n",
       "      <td>2896.0</td>\n",
       "      <td>11563.0</td>\n",
       "      <td>21717.0</td>\n",
       "      <td>25245.0</td>\n",
       "      <td>17869.0</td>\n",
       "      <td>12408.0</td>\n",
       "      <td>280016.0</td>\n",
       "      <td>32478.0</td>\n",
       "    </tr>\n",
       "    <tr>\n",
       "      <th>5.0</th>\n",
       "      <td>0.0</td>\n",
       "      <td>0.0</td>\n",
       "      <td>0.0</td>\n",
       "      <td>38.0</td>\n",
       "      <td>2365.0</td>\n",
       "      <td>15555.0</td>\n",
       "      <td>21975.0</td>\n",
       "      <td>17393.0</td>\n",
       "      <td>15076.0</td>\n",
       "      <td>12469.0</td>\n",
       "      <td>32572.0</td>\n",
       "      <td>1761004.0</td>\n",
       "    </tr>\n",
       "    <tr>\n",
       "      <th>6.0</th>\n",
       "      <td>0.0</td>\n",
       "      <td>5.0</td>\n",
       "      <td>1.0</td>\n",
       "      <td>76.0</td>\n",
       "      <td>885.0</td>\n",
       "      <td>11153.0</td>\n",
       "      <td>22471.0</td>\n",
       "      <td>12453.0</td>\n",
       "      <td>14500.0</td>\n",
       "      <td>47583.0</td>\n",
       "      <td>222526.0</td>\n",
       "      <td>2562501.0</td>\n",
       "    </tr>\n",
       "    <tr>\n",
       "      <th>7.0</th>\n",
       "      <td>0.0</td>\n",
       "      <td>0.0</td>\n",
       "      <td>4.0</td>\n",
       "      <td>13.0</td>\n",
       "      <td>2642.0</td>\n",
       "      <td>8409.0</td>\n",
       "      <td>22363.0</td>\n",
       "      <td>13127.0</td>\n",
       "      <td>10394.0</td>\n",
       "      <td>14473.0</td>\n",
       "      <td>74162.0</td>\n",
       "      <td>2560831.0</td>\n",
       "    </tr>\n",
       "    <tr>\n",
       "      <th>8.0</th>\n",
       "      <td>0.0</td>\n",
       "      <td>0.0</td>\n",
       "      <td>3.0</td>\n",
       "      <td>8.0</td>\n",
       "      <td>1208.0</td>\n",
       "      <td>9343.0</td>\n",
       "      <td>21749.0</td>\n",
       "      <td>10891.0</td>\n",
       "      <td>11414.0</td>\n",
       "      <td>51227.0</td>\n",
       "      <td>1125711.0</td>\n",
       "      <td>2059752.0</td>\n",
       "    </tr>\n",
       "    <tr>\n",
       "      <th>9.0</th>\n",
       "      <td>0.0</td>\n",
       "      <td>1.0</td>\n",
       "      <td>0.0</td>\n",
       "      <td>7.0</td>\n",
       "      <td>1786.0</td>\n",
       "      <td>6356.0</td>\n",
       "      <td>20474.0</td>\n",
       "      <td>7621.0</td>\n",
       "      <td>8973.0</td>\n",
       "      <td>21726.0</td>\n",
       "      <td>28636.0</td>\n",
       "      <td>2047374.0</td>\n",
       "    </tr>\n",
       "    <tr>\n",
       "      <th>10.0</th>\n",
       "      <td>0.0</td>\n",
       "      <td>0.0</td>\n",
       "      <td>2.0</td>\n",
       "      <td>6.0</td>\n",
       "      <td>698.0</td>\n",
       "      <td>11300.0</td>\n",
       "      <td>30787.0</td>\n",
       "      <td>7579.0</td>\n",
       "      <td>12034.0</td>\n",
       "      <td>294318.0</td>\n",
       "      <td>36876.0</td>\n",
       "      <td>1880491.0</td>\n",
       "    </tr>\n",
       "    <tr>\n",
       "      <th>11.0</th>\n",
       "      <td>0.0</td>\n",
       "      <td>0.0</td>\n",
       "      <td>4.0</td>\n",
       "      <td>6.0</td>\n",
       "      <td>865.0</td>\n",
       "      <td>18500.0</td>\n",
       "      <td>26488.0</td>\n",
       "      <td>15451.0</td>\n",
       "      <td>8710.0</td>\n",
       "      <td>22692.0</td>\n",
       "      <td>96117.0</td>\n",
       "      <td>1322463.0</td>\n",
       "    </tr>\n",
       "    <tr>\n",
       "      <th>12.0</th>\n",
       "      <td>0.0</td>\n",
       "      <td>3.0</td>\n",
       "      <td>9.0</td>\n",
       "      <td>27.0</td>\n",
       "      <td>864.0</td>\n",
       "      <td>34761.0</td>\n",
       "      <td>24216.0</td>\n",
       "      <td>18800.0</td>\n",
       "      <td>87933.0</td>\n",
       "      <td>401352.0</td>\n",
       "      <td>27981.0</td>\n",
       "      <td>0.0</td>\n",
       "    </tr>\n",
       "  </tbody>\n",
       "</table>\n",
       "</div>"
      ],
      "text/plain": [
       "year   2007.0  2009.0  2010.0  2011.0  2012.0   2013.0   2014.0   2015.0  \\\n",
       "month                                                                      \n",
       "1.0       0.0     4.0     0.0     2.0  1686.0    926.0  28423.0  20236.0   \n",
       "2.0       0.0     1.0     0.0     1.0  1699.0   3209.0  27060.0  17766.0   \n",
       "3.0       0.0     0.0     1.0     1.0  2838.0   4161.0  23701.0  19299.0   \n",
       "4.0       1.0     0.0     1.0     8.0  2896.0  11563.0  21717.0  25245.0   \n",
       "5.0       0.0     0.0     0.0    38.0  2365.0  15555.0  21975.0  17393.0   \n",
       "6.0       0.0     5.0     1.0    76.0   885.0  11153.0  22471.0  12453.0   \n",
       "7.0       0.0     0.0     4.0    13.0  2642.0   8409.0  22363.0  13127.0   \n",
       "8.0       0.0     0.0     3.0     8.0  1208.0   9343.0  21749.0  10891.0   \n",
       "9.0       0.0     1.0     0.0     7.0  1786.0   6356.0  20474.0   7621.0   \n",
       "10.0      0.0     0.0     2.0     6.0   698.0  11300.0  30787.0   7579.0   \n",
       "11.0      0.0     0.0     4.0     6.0   865.0  18500.0  26488.0  15451.0   \n",
       "12.0      0.0     3.0     9.0    27.0   864.0  34761.0  24216.0  18800.0   \n",
       "\n",
       "year     2016.0    2017.0     2018.0     2019.0  \n",
       "month                                            \n",
       "1.0     17529.0   10761.0    38088.0   426621.0  \n",
       "2.0    129010.0   48820.0   166979.0    26129.0  \n",
       "3.0     19693.0    9683.0    34834.0    32546.0  \n",
       "4.0     17869.0   12408.0   280016.0    32478.0  \n",
       "5.0     15076.0   12469.0    32572.0  1761004.0  \n",
       "6.0     14500.0   47583.0   222526.0  2562501.0  \n",
       "7.0     10394.0   14473.0    74162.0  2560831.0  \n",
       "8.0     11414.0   51227.0  1125711.0  2059752.0  \n",
       "9.0      8973.0   21726.0    28636.0  2047374.0  \n",
       "10.0    12034.0  294318.0    36876.0  1880491.0  \n",
       "11.0     8710.0   22692.0    96117.0  1322463.0  \n",
       "12.0    87933.0  401352.0    27981.0        0.0  "
      ]
     },
     "execution_count": 13,
     "metadata": {},
     "output_type": "execute_result"
    }
   ],
   "source": [
    "pivot"
   ]
  },
  {
   "cell_type": "code",
   "execution_count": 14,
   "metadata": {},
   "outputs": [
    {
     "data": {
      "text/plain": [
       "<matplotlib.axes._subplots.AxesSubplot at 0x23c4f292700>"
      ]
     },
     "execution_count": 14,
     "metadata": {},
     "output_type": "execute_result"
    },
    {
     "data": {
      "image/png": "[encoded data removed]",
      "text/plain": [
       "<Figure size 432x288 with 2 Axes>"
      ]
     },
     "metadata": {},
     "output_type": "display_data"
    }
   ],
   "source": [
    "sns.heatmap(pivot)"
   ]
  },
  {
   "cell_type": "code",
   "execution_count": 15,
   "metadata": {},
   "outputs": [],
   "source": [
    "#Begrenze Datensatz auf den Zeitraum von 2014-01-01 00:00 - 2019-11-23 00:00\n",
    "d_min = datetime.datetime(2014,1,1,0,0,0,0,tzinfo=datetime.timezone.utc)\n",
    "d_max = datetime.datetime(2019,11,23,0,0,0,0,tzinfo=datetime.timezone.utc)\n",
    "mask = (df.timestamp >= d_min) & (df.timestamp <= d_max)\n",
    "df = df.loc[mask]"
   ]
  },
  {
   "cell_type": "code",
   "execution_count": 16,
   "metadata": {
    "scrolled": true
   },
   "outputs": [
    {
     "data": {
      "text/plain": [
       "timestamp    False\n",
       "replies      False\n",
       "likes        False\n",
       "retweets     False\n",
       "text          True\n",
       "month        False\n",
       "year         False\n",
       "dtype: bool"
      ]
     },
     "execution_count": 16,
     "metadata": {},
     "output_type": "execute_result"
    }
   ],
   "source": [
    "#Prüfung ob es Zeilen mit fehlenden Daten gibt\n",
    "df.isnull().any()"
   ]
  },
  {
   "cell_type": "code",
   "execution_count": 17,
   "metadata": {
    "scrolled": true
   },
   "outputs": [],
   "source": [
    "#Entfernen der Zeilen mit fehlenden Daten\n",
    "df.dropna(how='any',inplace=True)"
   ]
  },
  {
   "cell_type": "code",
   "execution_count": 18,
   "metadata": {},
   "outputs": [
    {
     "data": {
      "text/plain": [
       "timestamp    False\n",
       "replies      False\n",
       "likes        False\n",
       "retweets     False\n",
       "text         False\n",
       "month        False\n",
       "year         False\n",
       "dtype: bool"
      ]
     },
     "execution_count": 18,
     "metadata": {},
     "output_type": "execute_result"
    }
   ],
   "source": [
    "#Prüfe erneut ob es Zeilen mit fehlenden Daten gibt\n",
    "df.isnull().any()"
   ]
  },
  {
   "cell_type": "code",
   "execution_count": 19,
   "metadata": {},
   "outputs": [],
   "source": [
    "df.rename(columns={\"timestamp\": \"date\"},inplace=True)"
   ]
  },
  {
   "cell_type": "code",
   "execution_count": 20,
   "metadata": {},
   "outputs": [],
   "source": [
    "#Umwandlung der Datentypen\n",
    "df['date'] = pd.to_datetime(df['date'])"
   ]
  },
  {
   "cell_type": "markdown",
   "metadata": {},
   "source": [
    "# 3. Vader Sentiment"
   ]
  },
  {
   "cell_type": "code",
   "execution_count": 21,
   "metadata": {},
   "outputs": [
    {
     "name": "stderr",
     "output_type": "stream",
     "text": [
      "[nltk_data] Downloading package vader_lexicon to\n",
      "[nltk_data]     C:\\Users\\A783703\\AppData\\Roaming\\nltk_data...\n",
      "[nltk_data]   Package vader_lexicon is already up-to-date!\n"
     ]
    },
    {
     "data": {
      "text/plain": [
       "True"
      ]
     },
     "execution_count": 21,
     "metadata": {},
     "output_type": "execute_result"
    }
   ],
   "source": [
    "#Download des Vader Lexicon\n",
    "nltk.download('vader_lexicon')"
   ]
  },
  {
   "cell_type": "code",
   "execution_count": 22,
   "metadata": {},
   "outputs": [],
   "source": [
    "#Instanziere Vader Sentiment Analyzer\n",
    "sia = SentimentIntensityAnalyzer()"
   ]
  },
  {
   "cell_type": "code",
   "execution_count": 23,
   "metadata": {},
   "outputs": [],
   "source": [
    "def get_sentiment(score: float) -> str:\n",
    "    if score >= 0.05:\n",
    "        return \"positive\"\n",
    "    elif score <= -0.05:\n",
    "        return \"negative\"\n",
    "    else: \n",
    "        return \"neutral\""
   ]
  },
  {
   "cell_type": "code",
   "execution_count": 24,
   "metadata": {},
   "outputs": [],
   "source": [
    "def get_compound(text: str) -> float:\n",
    "    polarity = sia.polarity_scores(text)\n",
    "    compound = polarity[\"compound\"] if polarity else 0.0\n",
    "    return compound"
   ]
  },
  {
   "cell_type": "code",
   "execution_count": 25,
   "metadata": {},
   "outputs": [],
   "source": [
    "def get_lang(text: str) -> object:\n",
    "    det = Detector(text, quiet=True)\n",
    "    lang = \"en\" if (det.reliable & (det.language.locale.getName() == \"en\")) else None\n",
    "    return lang"
   ]
  },
  {
   "cell_type": "code",
   "execution_count": 26,
   "metadata": {},
   "outputs": [],
   "source": [
    "def clean_text(text) -> str:\n",
    "    return rx.sub(r\"[\\p{Cc}\\p{Cs}]+\",\"\",text)"
   ]
  },
  {
   "cell_type": "code",
   "execution_count": 27,
   "metadata": {},
   "outputs": [],
   "source": [
    "def get_polarity(text):\n",
    "    return sia.polarity_scores(text)[\"compound\"]"
   ]
  },
  {
   "cell_type": "code",
   "execution_count": 28,
   "metadata": {},
   "outputs": [
    {
     "data": {
      "application/vnd.jupyter.widget-view+json": {
       "model_id": "941dad2afb2f44eabc8e1211a627d720",
       "version_major": 2,
       "version_minor": 0
      },
      "text/plain": [
       "HBox(children=(FloatProgress(value=0.0, description='Dask Apply', max=24.0, style=ProgressStyle(description_wi…"
      ]
     },
     "metadata": {},
     "output_type": "display_data"
    },
    {
     "name": "stdout",
     "output_type": "stream",
     "text": [
      "\n"
     ]
    }
   ],
   "source": [
    "#Bereinigen der Texte\n",
    "df[\"text\"] = df.swifter.apply(lambda x: rx.sub(r\"[\\p{Cc}\\p{Cs}]+\",\"\",x[\"text\"]), axis = 1)"
   ]
  },
  {
   "cell_type": "code",
   "execution_count": 29,
   "metadata": {},
   "outputs": [
    {
     "data": {
      "application/vnd.jupyter.widget-view+json": {
       "model_id": "2e129cbc93cf406ba39f7cb7ff4d1a4f",
       "version_major": 2,
       "version_minor": 0
      },
      "text/plain": [
       "HBox(children=(FloatProgress(value=0.0, description='Pandas Apply', max=4459483.0, style=ProgressStyle(descrip…"
      ]
     },
     "metadata": {},
     "output_type": "display_data"
    },
    {
     "name": "stdout",
     "output_type": "stream",
     "text": [
      "\n"
     ]
    }
   ],
   "source": [
    "#Erkennung der Sprache der Tweets. Nur englische Texte werden erfasst (Attribut lang='en').\n",
    "#Alle anderen Texte bekommen ein leeres Attribut 'lang'.\n",
    "df[\"lang\"] = df.swifter.apply(lambda x: get_lang(x[\"text\"]), axis = 1)"
   ]
  },
  {
   "cell_type": "code",
   "execution_count": 56,
   "metadata": {},
   "outputs": [
    {
     "data": {
      "text/html": [
       "<div>\n",
       "<style scoped>\n",
       "    .dataframe tbody tr th:only-of-type {\n",
       "        vertical-align: middle;\n",
       "    }\n",
       "\n",
       "    .dataframe tbody tr th {\n",
       "        vertical-align: top;\n",
       "    }\n",
       "\n",
       "    .dataframe thead th {\n",
       "        text-align: right;\n",
       "    }\n",
       "</style>\n",
       "<table border=\"1\" class=\"dataframe\">\n",
       "  <thead>\n",
       "    <tr style=\"text-align: right;\">\n",
       "      <th></th>\n",
       "      <th>index</th>\n",
       "      <th>date</th>\n",
       "      <th>replies</th>\n",
       "      <th>likes</th>\n",
       "      <th>retweets</th>\n",
       "      <th>text</th>\n",
       "      <th>month</th>\n",
       "      <th>year</th>\n",
       "      <th>lang</th>\n",
       "    </tr>\n",
       "  </thead>\n",
       "  <tbody>\n",
       "    <tr>\n",
       "      <th>0</th>\n",
       "      <td>0</td>\n",
       "      <td>2019-03-12 23:23:19+00:00</td>\n",
       "      <td>1</td>\n",
       "      <td>0</td>\n",
       "      <td>1</td>\n",
       "      <td>#Bitcoin #Satoshi #crypto #blockchain #Airdrop...</td>\n",
       "      <td>3</td>\n",
       "      <td>2019</td>\n",
       "      <td>en</td>\n",
       "    </tr>\n",
       "    <tr>\n",
       "      <th>1</th>\n",
       "      <td>1</td>\n",
       "      <td>2019-03-21 19:21:29+00:00</td>\n",
       "      <td>0</td>\n",
       "      <td>13</td>\n",
       "      <td>13</td>\n",
       "      <td>#Bitcoin #Satoshi #crypto #blockchain #Airdrop...</td>\n",
       "      <td>3</td>\n",
       "      <td>2019</td>\n",
       "      <td>en</td>\n",
       "    </tr>\n",
       "    <tr>\n",
       "      <th>2</th>\n",
       "      <td>2</td>\n",
       "      <td>2019-03-09 23:10:56+00:00</td>\n",
       "      <td>0</td>\n",
       "      <td>0</td>\n",
       "      <td>1</td>\n",
       "      <td>#Bitcoin #Satoshi #crypto #blockchain #Airdrop...</td>\n",
       "      <td>3</td>\n",
       "      <td>2019</td>\n",
       "      <td>en</td>\n",
       "    </tr>\n",
       "    <tr>\n",
       "      <th>3</th>\n",
       "      <td>3</td>\n",
       "      <td>2019-03-12 23:09:37+00:00</td>\n",
       "      <td>1</td>\n",
       "      <td>13</td>\n",
       "      <td>9</td>\n",
       "      <td>#Bitcoin #crypto #AirdropNew Airdrop #p2pb2b 📢...</td>\n",
       "      <td>3</td>\n",
       "      <td>2019</td>\n",
       "      <td>en</td>\n",
       "    </tr>\n",
       "    <tr>\n",
       "      <th>4</th>\n",
       "      <td>4</td>\n",
       "      <td>2018-12-29 04:39:39+00:00</td>\n",
       "      <td>9</td>\n",
       "      <td>61</td>\n",
       "      <td>16</td>\n",
       "      <td>The first lab made diamond happened in 1955 &amp;a...</td>\n",
       "      <td>12</td>\n",
       "      <td>2018</td>\n",
       "      <td>en</td>\n",
       "    </tr>\n",
       "    <tr>\n",
       "      <th>...</th>\n",
       "      <td>...</td>\n",
       "      <td>...</td>\n",
       "      <td>...</td>\n",
       "      <td>...</td>\n",
       "      <td>...</td>\n",
       "      <td>...</td>\n",
       "      <td>...</td>\n",
       "      <td>...</td>\n",
       "      <td>...</td>\n",
       "    </tr>\n",
       "    <tr>\n",
       "      <th>2171865</th>\n",
       "      <td>2171865</td>\n",
       "      <td>2018-10-06 11:28:49+00:00</td>\n",
       "      <td>3</td>\n",
       "      <td>10</td>\n",
       "      <td>4</td>\n",
       "      <td>I thought I should share this correctional wav...</td>\n",
       "      <td>10</td>\n",
       "      <td>2018</td>\n",
       "      <td>en</td>\n",
       "    </tr>\n",
       "    <tr>\n",
       "      <th>2171866</th>\n",
       "      <td>2171866</td>\n",
       "      <td>2017-11-29 05:19:33+00:00</td>\n",
       "      <td>0</td>\n",
       "      <td>6</td>\n",
       "      <td>1</td>\n",
       "      <td>$BTCUSD #Bitcoin hits 10,0000 today,has made a...</td>\n",
       "      <td>11</td>\n",
       "      <td>2017</td>\n",
       "      <td>en</td>\n",
       "    </tr>\n",
       "    <tr>\n",
       "      <th>2171867</th>\n",
       "      <td>2171867</td>\n",
       "      <td>2019-02-04 02:12:55+00:00</td>\n",
       "      <td>0</td>\n",
       "      <td>3</td>\n",
       "      <td>1</td>\n",
       "      <td>#Bitcoin #blockchain  #cryptocurrency https://...</td>\n",
       "      <td>2</td>\n",
       "      <td>2019</td>\n",
       "      <td>en</td>\n",
       "    </tr>\n",
       "    <tr>\n",
       "      <th>2171868</th>\n",
       "      <td>2171868</td>\n",
       "      <td>2018-09-15 16:10:01+00:00</td>\n",
       "      <td>2</td>\n",
       "      <td>8</td>\n",
       "      <td>1</td>\n",
       "      <td>Welcome to Bitcoin, newcomers! Here's your FAQ...</td>\n",
       "      <td>9</td>\n",
       "      <td>2018</td>\n",
       "      <td>en</td>\n",
       "    </tr>\n",
       "    <tr>\n",
       "      <th>2171869</th>\n",
       "      <td>2171869</td>\n",
       "      <td>2018-11-13 03:08:51+00:00</td>\n",
       "      <td>1</td>\n",
       "      <td>16</td>\n",
       "      <td>1</td>\n",
       "      <td>Hasan Minhaj really came for the Bitcoin bros ...</td>\n",
       "      <td>11</td>\n",
       "      <td>2018</td>\n",
       "      <td>en</td>\n",
       "    </tr>\n",
       "  </tbody>\n",
       "</table>\n",
       "<p>2171870 rows × 9 columns</p>\n",
       "</div>"
      ],
      "text/plain": [
       "           index                      date  replies  likes  retweets  \\\n",
       "0              0 2019-03-12 23:23:19+00:00        1      0         1   \n",
       "1              1 2019-03-21 19:21:29+00:00        0     13        13   \n",
       "2              2 2019-03-09 23:10:56+00:00        0      0         1   \n",
       "3              3 2019-03-12 23:09:37+00:00        1     13         9   \n",
       "4              4 2018-12-29 04:39:39+00:00        9     61        16   \n",
       "...          ...                       ...      ...    ...       ...   \n",
       "2171865  2171865 2018-10-06 11:28:49+00:00        3     10         4   \n",
       "2171866  2171866 2017-11-29 05:19:33+00:00        0      6         1   \n",
       "2171867  2171867 2019-02-04 02:12:55+00:00        0      3         1   \n",
       "2171868  2171868 2018-09-15 16:10:01+00:00        2      8         1   \n",
       "2171869  2171869 2018-11-13 03:08:51+00:00        1     16         1   \n",
       "\n",
       "                                                      text  month  year lang  \n",
       "0        #Bitcoin #Satoshi #crypto #blockchain #Airdrop...      3  2019   en  \n",
       "1        #Bitcoin #Satoshi #crypto #blockchain #Airdrop...      3  2019   en  \n",
       "2        #Bitcoin #Satoshi #crypto #blockchain #Airdrop...      3  2019   en  \n",
       "3        #Bitcoin #crypto #AirdropNew Airdrop #p2pb2b 📢...      3  2019   en  \n",
       "4        The first lab made diamond happened in 1955 &a...     12  2018   en  \n",
       "...                                                    ...    ...   ...  ...  \n",
       "2171865  I thought I should share this correctional wav...     10  2018   en  \n",
       "2171866  $BTCUSD #Bitcoin hits 10,0000 today,has made a...     11  2017   en  \n",
       "2171867  #Bitcoin #blockchain  #cryptocurrency https://...      2  2019   en  \n",
       "2171868  Welcome to Bitcoin, newcomers! Here's your FAQ...      9  2018   en  \n",
       "2171869  Hasan Minhaj really came for the Bitcoin bros ...     11  2018   en  \n",
       "\n",
       "[2171870 rows x 9 columns]"
      ]
     },
     "execution_count": 56,
     "metadata": {},
     "output_type": "execute_result"
    }
   ],
   "source": [
    "df"
   ]
  },
  {
   "cell_type": "code",
   "execution_count": 31,
   "metadata": {},
   "outputs": [
    {
     "data": {
      "text/plain": [
       "date        False\n",
       "replies     False\n",
       "likes       False\n",
       "retweets    False\n",
       "text        False\n",
       "month       False\n",
       "year        False\n",
       "lang         True\n",
       "dtype: bool"
      ]
     },
     "execution_count": 31,
     "metadata": {},
     "output_type": "execute_result"
    }
   ],
   "source": [
    "#Gibt es leere Zeilen?\n",
    "df.isnull().any()"
   ]
  },
  {
   "cell_type": "code",
   "execution_count": 32,
   "metadata": {},
   "outputs": [],
   "source": [
    "#Entfernen der Zeilen mit fehlenden Daten\n",
    "df.dropna(how='any',inplace=True)"
   ]
  },
  {
   "cell_type": "code",
   "execution_count": 33,
   "metadata": {},
   "outputs": [
    {
     "name": "stdout",
     "output_type": "stream",
     "text": [
      "2014-01-01 00:00:11+00:00 2019-04-30 23:56:12+00:00\n"
     ]
    }
   ],
   "source": [
    "print(df[\"date\"].min(), df[\"date\"].max())"
   ]
  },
  {
   "cell_type": "code",
   "execution_count": 48,
   "metadata": {},
   "outputs": [],
   "source": [
    "df.reset_index(drop=True,inplace=True)\n",
    "df = df.convert_dtypes()"
   ]
  },
  {
   "cell_type": "code",
   "execution_count": 58,
   "metadata": {},
   "outputs": [
    {
     "data": {
      "application/vnd.jupyter.widget-view+json": {
       "model_id": "d6990eae7ce64b8fb56cb8af58847c09",
       "version_major": 2,
       "version_minor": 0
      },
      "text/plain": [
       "HBox(children=(FloatProgress(value=0.0, description='Dask Apply', max=24.0, style=ProgressStyle(description_wi…"
      ]
     },
     "metadata": {},
     "output_type": "display_data"
    },
    {
     "name": "stdout",
     "output_type": "stream",
     "text": [
      "\n"
     ]
    }
   ],
   "source": [
    "#Ermittle Vader Sentiment Compound Score der Tweets\n",
    "df[\"sentiment\"] = df.swifter.apply(lambda x: sia.polarity_scores(x['text'])[\"compound\"], axis = 1)"
   ]
  },
  {
   "cell_type": "code",
   "execution_count": 59,
   "metadata": {},
   "outputs": [
    {
     "data": {
      "text/html": [
       "<div>\n",
       "<style scoped>\n",
       "    .dataframe tbody tr th:only-of-type {\n",
       "        vertical-align: middle;\n",
       "    }\n",
       "\n",
       "    .dataframe tbody tr th {\n",
       "        vertical-align: top;\n",
       "    }\n",
       "\n",
       "    .dataframe thead th {\n",
       "        text-align: right;\n",
       "    }\n",
       "</style>\n",
       "<table border=\"1\" class=\"dataframe\">\n",
       "  <thead>\n",
       "    <tr style=\"text-align: right;\">\n",
       "      <th></th>\n",
       "      <th>index</th>\n",
       "      <th>date</th>\n",
       "      <th>replies</th>\n",
       "      <th>likes</th>\n",
       "      <th>retweets</th>\n",
       "      <th>text</th>\n",
       "      <th>month</th>\n",
       "      <th>year</th>\n",
       "      <th>lang</th>\n",
       "      <th>sentiment</th>\n",
       "    </tr>\n",
       "  </thead>\n",
       "  <tbody>\n",
       "    <tr>\n",
       "      <th>0</th>\n",
       "      <td>0</td>\n",
       "      <td>2019-03-12 23:23:19+00:00</td>\n",
       "      <td>1</td>\n",
       "      <td>0</td>\n",
       "      <td>1</td>\n",
       "      <td>#Bitcoin #Satoshi #crypto #blockchain #Airdrop...</td>\n",
       "      <td>3</td>\n",
       "      <td>2019</td>\n",
       "      <td>en</td>\n",
       "      <td>0.2263</td>\n",
       "    </tr>\n",
       "    <tr>\n",
       "      <th>1</th>\n",
       "      <td>1</td>\n",
       "      <td>2019-03-21 19:21:29+00:00</td>\n",
       "      <td>0</td>\n",
       "      <td>13</td>\n",
       "      <td>13</td>\n",
       "      <td>#Bitcoin #Satoshi #crypto #blockchain #Airdrop...</td>\n",
       "      <td>3</td>\n",
       "      <td>2019</td>\n",
       "      <td>en</td>\n",
       "      <td>0.9385</td>\n",
       "    </tr>\n",
       "    <tr>\n",
       "      <th>2</th>\n",
       "      <td>2</td>\n",
       "      <td>2019-03-09 23:10:56+00:00</td>\n",
       "      <td>0</td>\n",
       "      <td>0</td>\n",
       "      <td>1</td>\n",
       "      <td>#Bitcoin #Satoshi #crypto #blockchain #Airdrop...</td>\n",
       "      <td>3</td>\n",
       "      <td>2019</td>\n",
       "      <td>en</td>\n",
       "      <td>0.0000</td>\n",
       "    </tr>\n",
       "    <tr>\n",
       "      <th>3</th>\n",
       "      <td>3</td>\n",
       "      <td>2019-03-12 23:09:37+00:00</td>\n",
       "      <td>1</td>\n",
       "      <td>13</td>\n",
       "      <td>9</td>\n",
       "      <td>#Bitcoin #crypto #AirdropNew Airdrop #p2pb2b 📢...</td>\n",
       "      <td>3</td>\n",
       "      <td>2019</td>\n",
       "      <td>en</td>\n",
       "      <td>0.5859</td>\n",
       "    </tr>\n",
       "    <tr>\n",
       "      <th>4</th>\n",
       "      <td>4</td>\n",
       "      <td>2018-12-29 04:39:39+00:00</td>\n",
       "      <td>9</td>\n",
       "      <td>61</td>\n",
       "      <td>16</td>\n",
       "      <td>The first lab made diamond happened in 1955 &amp;a...</td>\n",
       "      <td>12</td>\n",
       "      <td>2018</td>\n",
       "      <td>en</td>\n",
       "      <td>0.7678</td>\n",
       "    </tr>\n",
       "    <tr>\n",
       "      <th>...</th>\n",
       "      <td>...</td>\n",
       "      <td>...</td>\n",
       "      <td>...</td>\n",
       "      <td>...</td>\n",
       "      <td>...</td>\n",
       "      <td>...</td>\n",
       "      <td>...</td>\n",
       "      <td>...</td>\n",
       "      <td>...</td>\n",
       "      <td>...</td>\n",
       "    </tr>\n",
       "    <tr>\n",
       "      <th>2171865</th>\n",
       "      <td>2171865</td>\n",
       "      <td>2018-10-06 11:28:49+00:00</td>\n",
       "      <td>3</td>\n",
       "      <td>10</td>\n",
       "      <td>4</td>\n",
       "      <td>I thought I should share this correctional wav...</td>\n",
       "      <td>10</td>\n",
       "      <td>2018</td>\n",
       "      <td>en</td>\n",
       "      <td>0.5719</td>\n",
       "    </tr>\n",
       "    <tr>\n",
       "      <th>2171866</th>\n",
       "      <td>2171866</td>\n",
       "      <td>2017-11-29 05:19:33+00:00</td>\n",
       "      <td>0</td>\n",
       "      <td>6</td>\n",
       "      <td>1</td>\n",
       "      <td>$BTCUSD #Bitcoin hits 10,0000 today,has made a...</td>\n",
       "      <td>11</td>\n",
       "      <td>2017</td>\n",
       "      <td>en</td>\n",
       "      <td>0.5574</td>\n",
       "    </tr>\n",
       "    <tr>\n",
       "      <th>2171867</th>\n",
       "      <td>2171867</td>\n",
       "      <td>2019-02-04 02:12:55+00:00</td>\n",
       "      <td>0</td>\n",
       "      <td>3</td>\n",
       "      <td>1</td>\n",
       "      <td>#Bitcoin #blockchain  #cryptocurrency https://...</td>\n",
       "      <td>2</td>\n",
       "      <td>2019</td>\n",
       "      <td>en</td>\n",
       "      <td>0.0000</td>\n",
       "    </tr>\n",
       "    <tr>\n",
       "      <th>2171868</th>\n",
       "      <td>2171868</td>\n",
       "      <td>2018-09-15 16:10:01+00:00</td>\n",
       "      <td>2</td>\n",
       "      <td>8</td>\n",
       "      <td>1</td>\n",
       "      <td>Welcome to Bitcoin, newcomers! Here's your FAQ...</td>\n",
       "      <td>9</td>\n",
       "      <td>2018</td>\n",
       "      <td>en</td>\n",
       "      <td>0.6430</td>\n",
       "    </tr>\n",
       "    <tr>\n",
       "      <th>2171869</th>\n",
       "      <td>2171869</td>\n",
       "      <td>2018-11-13 03:08:51+00:00</td>\n",
       "      <td>1</td>\n",
       "      <td>16</td>\n",
       "      <td>1</td>\n",
       "      <td>Hasan Minhaj really came for the Bitcoin bros ...</td>\n",
       "      <td>11</td>\n",
       "      <td>2018</td>\n",
       "      <td>en</td>\n",
       "      <td>0.0000</td>\n",
       "    </tr>\n",
       "  </tbody>\n",
       "</table>\n",
       "<p>2171870 rows × 10 columns</p>\n",
       "</div>"
      ],
      "text/plain": [
       "           index                      date  replies  likes  retweets  \\\n",
       "0              0 2019-03-12 23:23:19+00:00        1      0         1   \n",
       "1              1 2019-03-21 19:21:29+00:00        0     13        13   \n",
       "2              2 2019-03-09 23:10:56+00:00        0      0         1   \n",
       "3              3 2019-03-12 23:09:37+00:00        1     13         9   \n",
       "4              4 2018-12-29 04:39:39+00:00        9     61        16   \n",
       "...          ...                       ...      ...    ...       ...   \n",
       "2171865  2171865 2018-10-06 11:28:49+00:00        3     10         4   \n",
       "2171866  2171866 2017-11-29 05:19:33+00:00        0      6         1   \n",
       "2171867  2171867 2019-02-04 02:12:55+00:00        0      3         1   \n",
       "2171868  2171868 2018-09-15 16:10:01+00:00        2      8         1   \n",
       "2171869  2171869 2018-11-13 03:08:51+00:00        1     16         1   \n",
       "\n",
       "                                                      text  month  year lang  \\\n",
       "0        #Bitcoin #Satoshi #crypto #blockchain #Airdrop...      3  2019   en   \n",
       "1        #Bitcoin #Satoshi #crypto #blockchain #Airdrop...      3  2019   en   \n",
       "2        #Bitcoin #Satoshi #crypto #blockchain #Airdrop...      3  2019   en   \n",
       "3        #Bitcoin #crypto #AirdropNew Airdrop #p2pb2b 📢...      3  2019   en   \n",
       "4        The first lab made diamond happened in 1955 &a...     12  2018   en   \n",
       "...                                                    ...    ...   ...  ...   \n",
       "2171865  I thought I should share this correctional wav...     10  2018   en   \n",
       "2171866  $BTCUSD #Bitcoin hits 10,0000 today,has made a...     11  2017   en   \n",
       "2171867  #Bitcoin #blockchain  #cryptocurrency https://...      2  2019   en   \n",
       "2171868  Welcome to Bitcoin, newcomers! Here's your FAQ...      9  2018   en   \n",
       "2171869  Hasan Minhaj really came for the Bitcoin bros ...     11  2018   en   \n",
       "\n",
       "         sentiment  \n",
       "0           0.2263  \n",
       "1           0.9385  \n",
       "2           0.0000  \n",
       "3           0.5859  \n",
       "4           0.7678  \n",
       "...            ...  \n",
       "2171865     0.5719  \n",
       "2171866     0.5574  \n",
       "2171867     0.0000  \n",
       "2171868     0.6430  \n",
       "2171869     0.0000  \n",
       "\n",
       "[2171870 rows x 10 columns]"
      ]
     },
     "execution_count": 59,
     "metadata": {},
     "output_type": "execute_result"
    }
   ],
   "source": [
    "df"
   ]
  },
  {
   "cell_type": "code",
   "execution_count": 60,
   "metadata": {},
   "outputs": [],
   "source": [
    "#positive sentiment: compound score >= 0.05\n",
    "#neutral sentiment: (compound score > -0.05) and (compound score < 0.05)\n",
    "#negative sentiment: compound score <= -0.05"
   ]
  },
  {
   "cell_type": "code",
   "execution_count": 61,
   "metadata": {},
   "outputs": [
    {
     "data": {
      "application/vnd.jupyter.widget-view+json": {
       "model_id": "d486d0f7a38846b49af89cc39168f3fa",
       "version_major": 2,
       "version_minor": 0
      },
      "text/plain": [
       "HBox(children=(FloatProgress(value=0.0, description='Dask Apply', max=24.0, style=ProgressStyle(description_wi…"
      ]
     },
     "metadata": {},
     "output_type": "display_data"
    },
    {
     "name": "stdout",
     "output_type": "stream",
     "text": [
      "\n"
     ]
    }
   ],
   "source": [
    "#Labeln des Datensatzes: positiv/neutral/negative\n",
    "df[\"label\"] = df.swifter.apply(lambda x: get_sentiment(x[\"sentiment\"]), axis = 1)"
   ]
  },
  {
   "cell_type": "code",
   "execution_count": 62,
   "metadata": {},
   "outputs": [],
   "source": [
    "#Exportiere Dataframe nach CSV\n",
    "df.to_csv (r'twitter-sentiments.csv', index = False, header=True, columns = [\"date\",\"sentiment\",\"likes\",\"label\"])"
   ]
  },
  {
   "cell_type": "markdown",
   "metadata": {},
   "source": [
    "# 4. Plots"
   ]
  },
  {
   "cell_type": "code",
   "execution_count": 63,
   "metadata": {},
   "outputs": [
    {
     "data": {
      "text/plain": [
       "<matplotlib.axes._subplots.AxesSubplot at 0x23ce7106ee0>"
      ]
     },
     "execution_count": 63,
     "metadata": {},
     "output_type": "execute_result"
    },
    {
     "data": {
      "image/png": "[encoded data removed]",
      "text/plain": [
       "<Figure size 432x288 with 1 Axes>"
      ]
     },
     "metadata": {},
     "output_type": "display_data"
    }
   ],
   "source": [
    "sns.histplot(data=df, x=\"sentiment\", bins = 10, kde=True)"
   ]
  },
  {
   "cell_type": "code",
   "execution_count": 64,
   "metadata": {},
   "outputs": [
    {
     "data": {
      "text/plain": [
       "<matplotlib.axes._subplots.AxesSubplot at 0x23cb916b850>"
      ]
     },
     "execution_count": 64,
     "metadata": {},
     "output_type": "execute_result"
    },
    {
     "data": {
      "image/png": "[encoded data removed]",
      "text/plain": [
       "<Figure size 432x288 with 1 Axes>"
      ]
     },
     "metadata": {},
     "output_type": "display_data"
    }
   ],
   "source": [
    "sns.histplot(data=df, x=\"label\")"
   ]
  },
  {
   "cell_type": "code",
   "execution_count": 65,
   "metadata": {},
   "outputs": [
    {
     "data": {
      "text/plain": [
       "<matplotlib.axes._subplots.AxesSubplot at 0x23cb9171580>"
      ]
     },
     "execution_count": 65,
     "metadata": {},
     "output_type": "execute_result"
    },
    {
     "data": {
      "image/png": "[encoded data removed]",
      "text/plain": [
       "<Figure size 432x288 with 1 Axes>"
      ]
     },
     "metadata": {},
     "output_type": "display_data"
    }
   ],
   "source": [
    "sns.histplot(data=df, x=\"sentiment\", bins=10, hue=\"label\")"
   ]
  },
  {
   "cell_type": "code",
   "execution_count": null,
   "metadata": {},
   "outputs": [],
   "source": []
  }
 ],
 "metadata": {
  "kernelspec": {
   "display_name": "Python 3",
   "language": "python",
   "name": "python3"
  },
  "language_info": {
   "codemirror_mode": {
    "name": "ipython",
    "version": 3
   },
   "file_extension": ".py",
   "mimetype": "text/x-python",
   "name": "python",
   "nbconvert_exporter": "python",
   "pygments_lexer": "ipython3",
   "version": "3.8.5"
  }
 },
 "nbformat": 4,
 "nbformat_minor": 4
}
